{
  "cells": [
    {
      "cell_type": "markdown",
      "metadata": {
        "id": "eYvCczy6lTt7"
      },
      "source": [
        "# Livro para consulta:\n",
        "- https://jakevdp.github.io/PythonDataScienceHandbook/03.08-aggregation-and-grouping.html\n",
        "- https://jakevdp.github.io/PythonDataScienceHandbook/03.09-pivot-tables.html\n",
        "    "
      ]
    },
    {
      "cell_type": "markdown",
      "metadata": {
        "id": "oeWprAfnlTt-"
      },
      "source": [
        "# 1. Importando bibliotecas <a name=\"import\"></a>\n",
        "\n",
        "<div style=\"text-align: right\"\n",
        "     \n",
        "[Voltar ao índice](#Contents)"
      ]
    },
    {
      "cell_type": "code",
      "execution_count": 1,
      "metadata": {
        "ExecuteTime": {
          "end_time": "2021-06-06T21:12:37.298706Z",
          "start_time": "2021-06-06T21:12:36.656481Z"
        },
        "id": "y_9gYudilTt_"
      },
      "outputs": [],
      "source": [
        "import numpy as np\n",
        "import pandas as pd\n",
        "import seaborn as sns\n",
        "import matplotlib.pyplot as plt\n",
        "\n",
        "%matplotlib inline"
      ]
    },
    {
      "cell_type": "markdown",
      "metadata": {
        "id": "-cpxC-IBlTuA"
      },
      "source": [
        "# 2. Carregando o dataframe SINASC <a name=\"read\"></a>\n",
        "<div style=\"text-align: right\"\n",
        "     \n",
        "[Voltar ao índice](#Contents)"
      ]
    },
    {
      "cell_type": "code",
      "execution_count": 2,
      "metadata": {
        "ExecuteTime": {
          "end_time": "2021-06-06T21:12:37.762376Z",
          "start_time": "2021-06-06T21:12:37.728383Z"
        },
        "scrolled": true,
        "id": "nQZn7u4DlTuB",
        "outputId": "438daf0c-44f1-4352-f46e-1994bfa8b928",
        "colab": {
          "base_uri": "https://localhost:8080/",
          "height": 447
        }
      },
      "outputs": [
        {
          "output_type": "execute_result",
          "data": {
            "text/plain": [
              "   ORIGEM   CODESTAB  CODMUNNASC  LOCNASC  IDADEMAE  ESTCIVMAE  \\\n",
              "0       1  2679477.0      110001        1        19        5.0   \n",
              "1       1  2679477.0      110001        1        29        2.0   \n",
              "2       1  2679477.0      110001        1        37        9.0   \n",
              "3       1  2516500.0      110001        1        30        5.0   \n",
              "4       1  2516500.0      110001        1        30        2.0   \n",
              "\n",
              "            ESCMAE  CODOCUPMAE  QTDFILVIVO  QTDFILMORT  ...  KOTELCHUCK  \\\n",
              "0      8 a 11 anos         NaN         0.0         0.0  ...           5   \n",
              "1      8 a 11 anos    999992.0         1.0         0.0  ...           5   \n",
              "2      8 a 11 anos    513205.0         2.0         0.0  ...           5   \n",
              "3  12 anos ou mais    231205.0         0.0         0.0  ...           4   \n",
              "4      8 a 11 anos    999992.0         1.0         0.0  ...           5   \n",
              "\n",
              "  CONTADOR munResStatus munResTipo               munResNome  munResUf  \\\n",
              "0        1        ATIVO      MUNIC    Alta Floresta D'Oeste  Rondônia   \n",
              "1        2        ATIVO      MUNIC    Alta Floresta D'Oeste  Rondônia   \n",
              "2        3        ATIVO      MUNIC    Alta Floresta D'Oeste  Rondônia   \n",
              "3        4        ATIVO      MUNIC  Alto Alegre dos Parecis  Rondônia   \n",
              "4        5        ATIVO      MUNIC    Alta Floresta D'Oeste  Rondônia   \n",
              "\n",
              "   munResLat munResLon  munResAlt  munResArea  \n",
              "0  -11.93554 -61.99982      338.0    7067.025  \n",
              "1  -11.93554 -61.99982      338.0    7067.025  \n",
              "2  -11.93554 -61.99982      338.0    7067.025  \n",
              "3  -12.13178 -61.85308      397.0    3958.273  \n",
              "4  -11.93554 -61.99982      338.0    7067.025  \n",
              "\n",
              "[5 rows x 69 columns]"
            ],
            "text/html": [
              "\n",
              "  <div id=\"df-8f9753f9-59e6-45e9-9b5b-ec9b9b0b35de\" class=\"colab-df-container\">\n",
              "    <div>\n",
              "<style scoped>\n",
              "    .dataframe tbody tr th:only-of-type {\n",
              "        vertical-align: middle;\n",
              "    }\n",
              "\n",
              "    .dataframe tbody tr th {\n",
              "        vertical-align: top;\n",
              "    }\n",
              "\n",
              "    .dataframe thead th {\n",
              "        text-align: right;\n",
              "    }\n",
              "</style>\n",
              "<table border=\"1\" class=\"dataframe\">\n",
              "  <thead>\n",
              "    <tr style=\"text-align: right;\">\n",
              "      <th></th>\n",
              "      <th>ORIGEM</th>\n",
              "      <th>CODESTAB</th>\n",
              "      <th>CODMUNNASC</th>\n",
              "      <th>LOCNASC</th>\n",
              "      <th>IDADEMAE</th>\n",
              "      <th>ESTCIVMAE</th>\n",
              "      <th>ESCMAE</th>\n",
              "      <th>CODOCUPMAE</th>\n",
              "      <th>QTDFILVIVO</th>\n",
              "      <th>QTDFILMORT</th>\n",
              "      <th>...</th>\n",
              "      <th>KOTELCHUCK</th>\n",
              "      <th>CONTADOR</th>\n",
              "      <th>munResStatus</th>\n",
              "      <th>munResTipo</th>\n",
              "      <th>munResNome</th>\n",
              "      <th>munResUf</th>\n",
              "      <th>munResLat</th>\n",
              "      <th>munResLon</th>\n",
              "      <th>munResAlt</th>\n",
              "      <th>munResArea</th>\n",
              "    </tr>\n",
              "  </thead>\n",
              "  <tbody>\n",
              "    <tr>\n",
              "      <th>0</th>\n",
              "      <td>1</td>\n",
              "      <td>2679477.0</td>\n",
              "      <td>110001</td>\n",
              "      <td>1</td>\n",
              "      <td>19</td>\n",
              "      <td>5.0</td>\n",
              "      <td>8 a 11 anos</td>\n",
              "      <td>NaN</td>\n",
              "      <td>0.0</td>\n",
              "      <td>0.0</td>\n",
              "      <td>...</td>\n",
              "      <td>5</td>\n",
              "      <td>1</td>\n",
              "      <td>ATIVO</td>\n",
              "      <td>MUNIC</td>\n",
              "      <td>Alta Floresta D'Oeste</td>\n",
              "      <td>Rondônia</td>\n",
              "      <td>-11.93554</td>\n",
              "      <td>-61.99982</td>\n",
              "      <td>338.0</td>\n",
              "      <td>7067.025</td>\n",
              "    </tr>\n",
              "    <tr>\n",
              "      <th>1</th>\n",
              "      <td>1</td>\n",
              "      <td>2679477.0</td>\n",
              "      <td>110001</td>\n",
              "      <td>1</td>\n",
              "      <td>29</td>\n",
              "      <td>2.0</td>\n",
              "      <td>8 a 11 anos</td>\n",
              "      <td>999992.0</td>\n",
              "      <td>1.0</td>\n",
              "      <td>0.0</td>\n",
              "      <td>...</td>\n",
              "      <td>5</td>\n",
              "      <td>2</td>\n",
              "      <td>ATIVO</td>\n",
              "      <td>MUNIC</td>\n",
              "      <td>Alta Floresta D'Oeste</td>\n",
              "      <td>Rondônia</td>\n",
              "      <td>-11.93554</td>\n",
              "      <td>-61.99982</td>\n",
              "      <td>338.0</td>\n",
              "      <td>7067.025</td>\n",
              "    </tr>\n",
              "    <tr>\n",
              "      <th>2</th>\n",
              "      <td>1</td>\n",
              "      <td>2679477.0</td>\n",
              "      <td>110001</td>\n",
              "      <td>1</td>\n",
              "      <td>37</td>\n",
              "      <td>9.0</td>\n",
              "      <td>8 a 11 anos</td>\n",
              "      <td>513205.0</td>\n",
              "      <td>2.0</td>\n",
              "      <td>0.0</td>\n",
              "      <td>...</td>\n",
              "      <td>5</td>\n",
              "      <td>3</td>\n",
              "      <td>ATIVO</td>\n",
              "      <td>MUNIC</td>\n",
              "      <td>Alta Floresta D'Oeste</td>\n",
              "      <td>Rondônia</td>\n",
              "      <td>-11.93554</td>\n",
              "      <td>-61.99982</td>\n",
              "      <td>338.0</td>\n",
              "      <td>7067.025</td>\n",
              "    </tr>\n",
              "    <tr>\n",
              "      <th>3</th>\n",
              "      <td>1</td>\n",
              "      <td>2516500.0</td>\n",
              "      <td>110001</td>\n",
              "      <td>1</td>\n",
              "      <td>30</td>\n",
              "      <td>5.0</td>\n",
              "      <td>12 anos ou mais</td>\n",
              "      <td>231205.0</td>\n",
              "      <td>0.0</td>\n",
              "      <td>0.0</td>\n",
              "      <td>...</td>\n",
              "      <td>4</td>\n",
              "      <td>4</td>\n",
              "      <td>ATIVO</td>\n",
              "      <td>MUNIC</td>\n",
              "      <td>Alto Alegre dos Parecis</td>\n",
              "      <td>Rondônia</td>\n",
              "      <td>-12.13178</td>\n",
              "      <td>-61.85308</td>\n",
              "      <td>397.0</td>\n",
              "      <td>3958.273</td>\n",
              "    </tr>\n",
              "    <tr>\n",
              "      <th>4</th>\n",
              "      <td>1</td>\n",
              "      <td>2516500.0</td>\n",
              "      <td>110001</td>\n",
              "      <td>1</td>\n",
              "      <td>30</td>\n",
              "      <td>2.0</td>\n",
              "      <td>8 a 11 anos</td>\n",
              "      <td>999992.0</td>\n",
              "      <td>1.0</td>\n",
              "      <td>0.0</td>\n",
              "      <td>...</td>\n",
              "      <td>5</td>\n",
              "      <td>5</td>\n",
              "      <td>ATIVO</td>\n",
              "      <td>MUNIC</td>\n",
              "      <td>Alta Floresta D'Oeste</td>\n",
              "      <td>Rondônia</td>\n",
              "      <td>-11.93554</td>\n",
              "      <td>-61.99982</td>\n",
              "      <td>338.0</td>\n",
              "      <td>7067.025</td>\n",
              "    </tr>\n",
              "  </tbody>\n",
              "</table>\n",
              "<p>5 rows × 69 columns</p>\n",
              "</div>\n",
              "    <div class=\"colab-df-buttons\">\n",
              "\n",
              "  <div class=\"colab-df-container\">\n",
              "    <button class=\"colab-df-convert\" onclick=\"convertToInteractive('df-8f9753f9-59e6-45e9-9b5b-ec9b9b0b35de')\"\n",
              "            title=\"Convert this dataframe to an interactive table.\"\n",
              "            style=\"display:none;\">\n",
              "\n",
              "  <svg xmlns=\"http://www.w3.org/2000/svg\" height=\"24px\" viewBox=\"0 -960 960 960\">\n",
              "    <path d=\"M120-120v-720h720v720H120Zm60-500h600v-160H180v160Zm220 220h160v-160H400v160Zm0 220h160v-160H400v160ZM180-400h160v-160H180v160Zm440 0h160v-160H620v160ZM180-180h160v-160H180v160Zm440 0h160v-160H620v160Z\"/>\n",
              "  </svg>\n",
              "    </button>\n",
              "\n",
              "  <style>\n",
              "    .colab-df-container {\n",
              "      display:flex;\n",
              "      gap: 12px;\n",
              "    }\n",
              "\n",
              "    .colab-df-convert {\n",
              "      background-color: #E8F0FE;\n",
              "      border: none;\n",
              "      border-radius: 50%;\n",
              "      cursor: pointer;\n",
              "      display: none;\n",
              "      fill: #1967D2;\n",
              "      height: 32px;\n",
              "      padding: 0 0 0 0;\n",
              "      width: 32px;\n",
              "    }\n",
              "\n",
              "    .colab-df-convert:hover {\n",
              "      background-color: #E2EBFA;\n",
              "      box-shadow: 0px 1px 2px rgba(60, 64, 67, 0.3), 0px 1px 3px 1px rgba(60, 64, 67, 0.15);\n",
              "      fill: #174EA6;\n",
              "    }\n",
              "\n",
              "    .colab-df-buttons div {\n",
              "      margin-bottom: 4px;\n",
              "    }\n",
              "\n",
              "    [theme=dark] .colab-df-convert {\n",
              "      background-color: #3B4455;\n",
              "      fill: #D2E3FC;\n",
              "    }\n",
              "\n",
              "    [theme=dark] .colab-df-convert:hover {\n",
              "      background-color: #434B5C;\n",
              "      box-shadow: 0px 1px 3px 1px rgba(0, 0, 0, 0.15);\n",
              "      filter: drop-shadow(0px 1px 2px rgba(0, 0, 0, 0.3));\n",
              "      fill: #FFFFFF;\n",
              "    }\n",
              "  </style>\n",
              "\n",
              "    <script>\n",
              "      const buttonEl =\n",
              "        document.querySelector('#df-8f9753f9-59e6-45e9-9b5b-ec9b9b0b35de button.colab-df-convert');\n",
              "      buttonEl.style.display =\n",
              "        google.colab.kernel.accessAllowed ? 'block' : 'none';\n",
              "\n",
              "      async function convertToInteractive(key) {\n",
              "        const element = document.querySelector('#df-8f9753f9-59e6-45e9-9b5b-ec9b9b0b35de');\n",
              "        const dataTable =\n",
              "          await google.colab.kernel.invokeFunction('convertToInteractive',\n",
              "                                                    [key], {});\n",
              "        if (!dataTable) return;\n",
              "\n",
              "        const docLinkHtml = 'Like what you see? Visit the ' +\n",
              "          '<a target=\"_blank\" href=https://colab.research.google.com/notebooks/data_table.ipynb>data table notebook</a>'\n",
              "          + ' to learn more about interactive tables.';\n",
              "        element.innerHTML = '';\n",
              "        dataTable['output_type'] = 'display_data';\n",
              "        await google.colab.output.renderOutput(dataTable, element);\n",
              "        const docLink = document.createElement('div');\n",
              "        docLink.innerHTML = docLinkHtml;\n",
              "        element.appendChild(docLink);\n",
              "      }\n",
              "    </script>\n",
              "  </div>\n",
              "\n",
              "\n",
              "<div id=\"df-e5ab05b5-70ce-4063-983d-c2c556d981c2\">\n",
              "  <button class=\"colab-df-quickchart\" onclick=\"quickchart('df-e5ab05b5-70ce-4063-983d-c2c556d981c2')\"\n",
              "            title=\"Suggest charts\"\n",
              "            style=\"display:none;\">\n",
              "\n",
              "<svg xmlns=\"http://www.w3.org/2000/svg\" height=\"24px\"viewBox=\"0 0 24 24\"\n",
              "     width=\"24px\">\n",
              "    <g>\n",
              "        <path d=\"M19 3H5c-1.1 0-2 .9-2 2v14c0 1.1.9 2 2 2h14c1.1 0 2-.9 2-2V5c0-1.1-.9-2-2-2zM9 17H7v-7h2v7zm4 0h-2V7h2v10zm4 0h-2v-4h2v4z\"/>\n",
              "    </g>\n",
              "</svg>\n",
              "  </button>\n",
              "\n",
              "<style>\n",
              "  .colab-df-quickchart {\n",
              "      --bg-color: #E8F0FE;\n",
              "      --fill-color: #1967D2;\n",
              "      --hover-bg-color: #E2EBFA;\n",
              "      --hover-fill-color: #174EA6;\n",
              "      --disabled-fill-color: #AAA;\n",
              "      --disabled-bg-color: #DDD;\n",
              "  }\n",
              "\n",
              "  [theme=dark] .colab-df-quickchart {\n",
              "      --bg-color: #3B4455;\n",
              "      --fill-color: #D2E3FC;\n",
              "      --hover-bg-color: #434B5C;\n",
              "      --hover-fill-color: #FFFFFF;\n",
              "      --disabled-bg-color: #3B4455;\n",
              "      --disabled-fill-color: #666;\n",
              "  }\n",
              "\n",
              "  .colab-df-quickchart {\n",
              "    background-color: var(--bg-color);\n",
              "    border: none;\n",
              "    border-radius: 50%;\n",
              "    cursor: pointer;\n",
              "    display: none;\n",
              "    fill: var(--fill-color);\n",
              "    height: 32px;\n",
              "    padding: 0;\n",
              "    width: 32px;\n",
              "  }\n",
              "\n",
              "  .colab-df-quickchart:hover {\n",
              "    background-color: var(--hover-bg-color);\n",
              "    box-shadow: 0 1px 2px rgba(60, 64, 67, 0.3), 0 1px 3px 1px rgba(60, 64, 67, 0.15);\n",
              "    fill: var(--button-hover-fill-color);\n",
              "  }\n",
              "\n",
              "  .colab-df-quickchart-complete:disabled,\n",
              "  .colab-df-quickchart-complete:disabled:hover {\n",
              "    background-color: var(--disabled-bg-color);\n",
              "    fill: var(--disabled-fill-color);\n",
              "    box-shadow: none;\n",
              "  }\n",
              "\n",
              "  .colab-df-spinner {\n",
              "    border: 2px solid var(--fill-color);\n",
              "    border-color: transparent;\n",
              "    border-bottom-color: var(--fill-color);\n",
              "    animation:\n",
              "      spin 1s steps(1) infinite;\n",
              "  }\n",
              "\n",
              "  @keyframes spin {\n",
              "    0% {\n",
              "      border-color: transparent;\n",
              "      border-bottom-color: var(--fill-color);\n",
              "      border-left-color: var(--fill-color);\n",
              "    }\n",
              "    20% {\n",
              "      border-color: transparent;\n",
              "      border-left-color: var(--fill-color);\n",
              "      border-top-color: var(--fill-color);\n",
              "    }\n",
              "    30% {\n",
              "      border-color: transparent;\n",
              "      border-left-color: var(--fill-color);\n",
              "      border-top-color: var(--fill-color);\n",
              "      border-right-color: var(--fill-color);\n",
              "    }\n",
              "    40% {\n",
              "      border-color: transparent;\n",
              "      border-right-color: var(--fill-color);\n",
              "      border-top-color: var(--fill-color);\n",
              "    }\n",
              "    60% {\n",
              "      border-color: transparent;\n",
              "      border-right-color: var(--fill-color);\n",
              "    }\n",
              "    80% {\n",
              "      border-color: transparent;\n",
              "      border-right-color: var(--fill-color);\n",
              "      border-bottom-color: var(--fill-color);\n",
              "    }\n",
              "    90% {\n",
              "      border-color: transparent;\n",
              "      border-bottom-color: var(--fill-color);\n",
              "    }\n",
              "  }\n",
              "</style>\n",
              "\n",
              "  <script>\n",
              "    async function quickchart(key) {\n",
              "      const quickchartButtonEl =\n",
              "        document.querySelector('#' + key + ' button');\n",
              "      quickchartButtonEl.disabled = true;  // To prevent multiple clicks.\n",
              "      quickchartButtonEl.classList.add('colab-df-spinner');\n",
              "      try {\n",
              "        const charts = await google.colab.kernel.invokeFunction(\n",
              "            'suggestCharts', [key], {});\n",
              "      } catch (error) {\n",
              "        console.error('Error during call to suggestCharts:', error);\n",
              "      }\n",
              "      quickchartButtonEl.classList.remove('colab-df-spinner');\n",
              "      quickchartButtonEl.classList.add('colab-df-quickchart-complete');\n",
              "    }\n",
              "    (() => {\n",
              "      let quickchartButtonEl =\n",
              "        document.querySelector('#df-e5ab05b5-70ce-4063-983d-c2c556d981c2 button');\n",
              "      quickchartButtonEl.style.display =\n",
              "        google.colab.kernel.accessAllowed ? 'block' : 'none';\n",
              "    })();\n",
              "  </script>\n",
              "</div>\n",
              "\n",
              "    </div>\n",
              "  </div>\n"
            ],
            "application/vnd.google.colaboratory.intrinsic+json": {
              "type": "dataframe",
              "variable_name": "sinasc_raw"
            }
          },
          "metadata": {},
          "execution_count": 2
        }
      ],
      "source": [
        "sinasc_raw = pd.read_csv('SINASC_RO_2019.csv')\n",
        "sinasc_raw.head()"
      ]
    },
    {
      "cell_type": "markdown",
      "metadata": {
        "id": "9GOoel3-lTuD"
      },
      "source": [
        "# Tarefa 2"
      ]
    },
    {
      "cell_type": "markdown",
      "metadata": {
        "id": "iNNeWswTlTuD"
      },
      "source": [
        "### 1. Crie 2 faixas de Latitude do município (munResLat) sendo uma acima e outra abaixo de -10.5 e aplique o groupby usando essas faixas como chave e realize operações de soma, media, minimo, maximo, mediana, desvio padrao, variancia pra pelo menos 2 variáveis numéricas ainda não utilizadas"
      ]
    },
    {
      "cell_type": "code",
      "execution_count": 3,
      "metadata": {
        "id": "HXtelNbnlTuE",
        "colab": {
          "base_uri": "https://localhost:8080/"
        },
        "outputId": "e5174447-1238-401d-c7ac-5da536bac8bd"
      },
      "outputs": [
        {
          "output_type": "stream",
          "name": "stdout",
          "text": [
            "    faixa_latitude     soma     media  minimo  maximo  mediana  desvio_padrao  \\\n",
            "0  Abaixo de -10.5  12600.0  0.980011     0.0    30.0      1.0       1.138300   \n",
            "1   Acima de -10.5  14227.0  1.129306     0.0    12.0      1.0       1.198566   \n",
            "\n",
            "   variancia  \n",
            "0   1.295727  \n",
            "1   1.436561  \n"
          ]
        }
      ],
      "source": [
        "# Criando faixas de Latitude\n",
        "def faixa_latitude(lat):\n",
        "    if lat < -10.5:\n",
        "        return 'Abaixo de -10.5'\n",
        "    else:\n",
        "        return 'Acima de -10.5'\n",
        "\n",
        "# Aplicando a função para criar uma nova coluna 'faixa_latitude'\n",
        "sinasc_raw['faixa_latitude'] = sinasc_raw['munResLat'].apply(faixa_latitude)\n",
        "\n",
        "# Escolhendo duas variáveis numéricas que ainda não foram utilizadas\n",
        "# Exemplo: 'QTDFILVIVO' e 'PESO'\n",
        "variaveis_numericas = ['QTDFILVIVO', 'PESO']\n",
        "\n",
        "# Agrupando pelos intervalos de latitude e realizando as operações estatísticas\n",
        "resultado = sinasc_raw.groupby('faixa_latitude')[variaveis_numericas].agg(\n",
        "    soma=('QTDFILVIVO', 'sum'),\n",
        "    media=('QTDFILVIVO', 'mean'),\n",
        "    minimo=('QTDFILVIVO', 'min'),\n",
        "    maximo=('QTDFILVIVO', 'max'),\n",
        "    mediana=('QTDFILVIVO', 'median'),\n",
        "    desvio_padrao=('QTDFILVIVO', 'std'),\n",
        "    variancia=('QTDFILVIVO', 'var'),\n",
        ").reset_index()\n",
        "\n",
        "# Exibindo o resultado\n",
        "print(resultado)"
      ]
    },
    {
      "cell_type": "markdown",
      "metadata": {
        "id": "AK33D0mdlTuE"
      },
      "source": [
        "### 2. Crie 2 faixas da área dos municípios (munResArea) sendo uma acima e outra abaixo de 3000 e aplique o groupby usando essas faixas como chave e realize operações de soma, media, minimo, maximo, mediana, desvio padrao, variancia pra pelo menos 2 variáveis numéricas ainda não utilizadas\n"
      ]
    },
    {
      "cell_type": "code",
      "execution_count": 4,
      "metadata": {
        "id": "qqCXJtYIlTuE",
        "colab": {
          "base_uri": "https://localhost:8080/"
        },
        "outputId": "60a5c604-8684-4371-c5a2-4ca97dc39d70"
      },
      "outputs": [
        {
          "output_type": "stream",
          "name": "stdout",
          "text": [
            "       faixa_area    soma     media  minimo  maximo  mediana  desvio_padrao  \\\n",
            "0  Abaixo de 3000  1260.0  0.244803     0.0     4.0      0.0       0.551215   \n",
            "1   Acima de 3000  5384.0  0.272153     0.0    28.0      0.0       0.629087   \n",
            "\n",
            "   variancia  \n",
            "0   0.303838  \n",
            "1   0.395750  \n"
          ]
        }
      ],
      "source": [
        "# Criando faixas de área\n",
        "def faixa_area(area):\n",
        "    if area < 3000:\n",
        "        return 'Abaixo de 3000'\n",
        "    else:\n",
        "        return 'Acima de 3000'\n",
        "\n",
        "# Aplicando a função para criar uma nova coluna 'faixa_area'\n",
        "sinasc_raw['faixa_area'] = sinasc_raw['munResArea'].apply(faixa_area)\n",
        "\n",
        "# Escolhendo duas variáveis numéricas que ainda não foram utilizadas\n",
        "# Exemplo: 'QTDFILMORT' e 'GESTACAO'\n",
        "variaveis_numericas = ['QTDFILMORT', 'GESTACAO']\n",
        "\n",
        "# Agrupando pelas faixas de área e realizando as operações estatísticas\n",
        "resultado_area = sinasc_raw.groupby('faixa_area')[variaveis_numericas].agg(\n",
        "    soma=('QTDFILMORT', 'sum'),\n",
        "    media=('QTDFILMORT', 'mean'),\n",
        "    minimo=('QTDFILMORT', 'min'),\n",
        "    maximo=('QTDFILMORT', 'max'),\n",
        "    mediana=('QTDFILMORT', 'median'),\n",
        "    desvio_padrao=('QTDFILMORT', 'std'),\n",
        "    variancia=('QTDFILMORT', 'var'),\n",
        ").reset_index()\n",
        "\n",
        "# Exibindo o resultado\n",
        "print(resultado_area)"
      ]
    },
    {
      "cell_type": "markdown",
      "metadata": {
        "id": "aWaljnnxlTuE"
      },
      "source": [
        "### 3. Determine faixas na variável munResAlt e aplique o groupby usando essas faixas como chave e realize operações de soma, media, minimo, maximo, mediana, desvio padrao, variancia pra pelo menos 2 variáveis numéricas ainda não utilizadas"
      ]
    },
    {
      "cell_type": "code",
      "source": [
        "# Criando faixas de altitude\n",
        "def faixa_altitude(altura):\n",
        "    if altura < 200:\n",
        "        return 'Abaixo de 200m'\n",
        "    elif altura < 400:\n",
        "        return '200m a 400m'\n",
        "    else:\n",
        "        return 'Acima de 400m'\n",
        "\n",
        "# Aplicando a função para criar uma nova coluna 'faixa_altitude'\n",
        "sinasc_raw['faixa_altitude'] = sinasc_raw['munResAlt'].apply(faixa_altitude)\n",
        "\n",
        "# Escolhendo duas variáveis numéricas que ainda não foram utilizadas\n",
        "# Exemplo: 'QTDFILVIVO' e 'IDADEMAE'\n",
        "variaveis_numericas = ['QTDFILVIVO', 'IDADEMAE']\n",
        "\n",
        "# Agrupando pelas faixas de altitude e realizando as operações estatísticas\n",
        "resultado_altitude = sinasc_raw.groupby('faixa_altitude')[variaveis_numericas].agg(\n",
        "    soma=('QTDFILVIVO', 'sum'),\n",
        "    media=('QTDFILVIVO', 'mean'),\n",
        "    minimo=('QTDFILVIVO', 'min'),\n",
        "    maximo=('QTDFILVIVO', 'max'),\n",
        "    mediana=('QTDFILVIVO', 'median'),\n",
        "    desvio_padrao=('QTDFILVIVO', 'std'),\n",
        "    variancia=('QTDFILVIVO', 'var'),\n",
        ").reset_index()\n",
        "\n",
        "# Exibindo o resultado\n",
        "print(resultado_altitude)"
      ],
      "metadata": {
        "colab": {
          "base_uri": "https://localhost:8080/"
        },
        "id": "QUvrxCxktH_R",
        "outputId": "a093e75b-5c0c-4da7-ac63-b4fdf0c392ae"
      },
      "execution_count": 5,
      "outputs": [
        {
          "output_type": "stream",
          "name": "stdout",
          "text": [
            "   faixa_altitude     soma     media  minimo  maximo  mediana  desvio_padrao  \\\n",
            "0     200m a 400m   4166.0  0.964799     0.0    30.0      1.0       1.104317   \n",
            "1  Abaixo de 200m  21006.0  1.086255     0.0    14.0      1.0       1.195139   \n",
            "2   Acima de 400m   1655.0  0.919956     0.0    10.0      1.0       1.034573   \n",
            "\n",
            "   variancia  \n",
            "0   1.219516  \n",
            "1   1.428356  \n",
            "2   1.070341  \n"
          ]
        }
      ]
    },
    {
      "cell_type": "markdown",
      "metadata": {
        "id": "aF1riawJlTuF"
      },
      "source": [
        "### 4. Plote no mesmo grafico ao longo do tempo a idade media das mulheres de cada regiao imediatas de rondonia\n"
      ]
    },
    {
      "cell_type": "code",
      "source": [
        "# Mapeamento das regiões imediatas\n",
        "regioes_imediatas = {\n",
        "    \"Candeias do Jamari\": \"Porto Velho\",\n",
        "    \"Guajará-Mirim\": \"Porto Velho\",\n",
        "    \"Itapuã do Oeste\": \"Porto Velho\",\n",
        "    \"Nova Mamoré\": \"Porto Velho\",\n",
        "    \"Porto Velho\": \"Porto Velho\",\n",
        "    \"Ariquemes\": \"Ariquemes\",\n",
        "    \"Alto Paraíso\": \"Ariquemes\",\n",
        "    \"Buritis\": \"Ariquemes\",\n",
        "    \"Cacaulândia\": \"Ariquemes\",\n",
        "    \"Campo Novo de Rondônia\": \"Ariquemes\",\n",
        "    \"Cujubim\": \"Ariquemes\",\n",
        "    \"Monte Negro\": \"Ariquemes\",\n",
        "    \"Rio Crespo\": \"Ariquemes\",\n",
        "    \"Jaru\": \"Jaru\",\n",
        "    \"Governador Jorge Teixeira\": \"Jaru\",\n",
        "    \"Machadinho D'Oeste\": \"Jaru\",\n",
        "    \"Theobroma\": \"Jaru\",\n",
        "    \"Vale do Anari\": \"Jaru\",\n",
        "    \"Alvorada D'Oeste\": \"Ji-Paraná\",\n",
        "    \"Costa Marques\": \"Ji-Paraná\",\n",
        "    \"Ji-Paraná\": \"Ji-Paraná\",\n",
        "    \"Mirante da Serra\": \"Ji-Paraná\",\n",
        "    \"Nova União\": \"Ji-Paraná\",\n",
        "    \"Ouro Preto do Oeste\": \"Ji-Paraná\",\n",
        "    \"Presidente Médici\": \"Ji-Paraná\",\n",
        "    \"São Francisco do Guaporé\": \"Ji-Paraná\",\n",
        "    \"São Miguel do Guaporé\": \"Ji-Paraná\",\n",
        "    \"Seringueiras\": \"Ji-Paraná\",\n",
        "    \"Teixeirópolis\": \"Ji-Paraná\",\n",
        "    \"Urupá\": \"Ji-Paraná\",\n",
        "    \"Vale do Paraíso\": \"Ji-Paraná\",\n",
        "    \"Cacoal\": \"Cacoal\",\n",
        "    \"Alta Floresta D'Oeste\": \"Cacoal\",\n",
        "    \"Alto Alegre dos Parecis\": \"Cacoal\",\n",
        "    \"Castanheiras\": \"Cacoal\",\n",
        "    \"Espigão D'Oeste\": \"Cacoal\",\n",
        "    \"Ministro Andreazza\": \"Cacoal\",\n",
        "    \"Nova Brasilândia D'Oeste\": \"Cacoal\",\n",
        "    \"Novo Horizonte do Oeste\": \"Cacoal\",\n",
        "    \"Parecis\": \"Cacoal\",\n",
        "    \"Pimenta Bueno\": \"Cacoal\",\n",
        "    \"Primavera de Rondônia\": \"Cacoal\",\n",
        "    \"Rolim de Moura\": \"Cacoal\",\n",
        "    \"Santa Luzia D'Oeste\": \"Cacoal\",\n",
        "    \"São Felipe D'Oeste\": \"Cacoal\",\n",
        "    \"Vilhena\": \"Vilhena\",\n",
        "    \"Cabixi\": \"Vilhena\",\n",
        "    \"Cerejeiras\": \"Vilhena\",\n",
        "    \"Chupinguaia\": \"Vilhena\",\n",
        "    \"Colorado do Oeste\": \"Vilhena\",\n",
        "    \"Corumbiara\": \"Vilhena\",\n",
        "    \"Pimenteiras do Oeste\": \"Vilhena\"\n",
        "}\n",
        "\n",
        "# Criando uma nova coluna para a região imediata\n",
        "sinasc_raw['Regiao_Imediata'] = sinasc_raw['munResNome'].map(regioes_imediatas)\n",
        "\n",
        "# Extraindo o ano da coluna de data de nascimento\n",
        "sinasc_raw['ano'] = pd.to_datetime(sinasc_raw['DTNASC']).dt.year\n",
        "\n",
        "# Agrupando por ano e região imediata e calculando a idade média\n",
        "idade_media = sinasc_raw.groupby(['ano', 'Regiao_Imediata'])['IDADEMAE'].mean().reset_index()\n",
        "\n",
        "# Exibindo os valores finais\n",
        "print(\"Valores Finais da Idade Média das Mães:\")\n",
        "print(idade_media)\n",
        "\n",
        "# Pivotando para facilitar a plotagem\n",
        "idade_media_pivot = idade_media.pivot(index='ano', columns='Regiao_Imediata', values='IDADEMAE')\n",
        "\n",
        "# Plotando os dados\n",
        "plt.figure(figsize=(12, 6))\n",
        "for regiao in idade_media_pivot.columns:\n",
        "    plt.plot(idade_media_pivot.index, idade_media_pivot[regiao], marker='o', label=regiao)\n",
        "\n",
        "plt.title('Idade Média das Mulheres por Região Imediata de Rondônia ao Longo do Tempo')\n",
        "plt.xlabel('Ano')\n",
        "plt.ylabel('Idade Média das Mães')\n",
        "plt.legend(title='Região Imediata', bbox_to_anchor=(1.05, 1), loc='upper left')\n",
        "plt.grid()\n",
        "plt.xticks(idade_media_pivot.index, idade_media_pivot.index, rotation=45)\n",
        "plt.tight_layout()\n",
        "plt.show()"
      ],
      "metadata": {
        "colab": {
          "base_uri": "https://localhost:8080/",
          "height": 576
        },
        "id": "XsZ5hckYtud7",
        "outputId": "83d38975-16aa-4476-b795-2c9b13371e68"
      },
      "execution_count": 13,
      "outputs": [
        {
          "output_type": "stream",
          "name": "stdout",
          "text": [
            "Valores Finais da Idade Média das Mães:\n",
            "    ano Regiao_Imediata   IDADEMAE\n",
            "0  2019       Ariquemes  25.459635\n",
            "1  2019          Cacoal  26.347817\n",
            "2  2019            Jaru  25.708853\n",
            "3  2019       Ji-Paraná  26.094720\n",
            "4  2019     Porto Velho  26.166303\n",
            "5  2019         Vilhena  26.417143\n"
          ]
        },
        {
          "output_type": "display_data",
          "data": {
            "text/plain": [
              "<Figure size 1200x600 with 1 Axes>"
            ],
            "image/png": "[encoded data removed]"
          },
          "metadata": {}
        }
      ]
    },
    {
      "cell_type": "markdown",
      "metadata": {
        "id": "yt-LIWxblTuF"
      },
      "source": [
        "### 5. Utilize a tabela do link abaixo e crie faixas utilizando o mapping e gere agrupamentos utilizando essas faixas como chave\n"
      ]
    },
    {
      "cell_type": "markdown",
      "metadata": {
        "id": "moZakjgIlTuF"
      },
      "source": [
        "### 5.1 IDH\n",
        "A - https://pt.wikipedia.org/wiki/Lista_de_munic%C3%ADpios_de_Rond%C3%B4nia_por_IDH-M\n"
      ]
    },
    {
      "cell_type": "code",
      "execution_count": 17,
      "metadata": {
        "id": "DaJk66_BlTuF",
        "colab": {
          "base_uri": "https://localhost:8080/"
        },
        "outputId": "cc5e626a-b49f-41aa-8748-a0d7298ccc8b"
      },
      "outputs": [
        {
          "output_type": "stream",
          "name": "stdout",
          "text": [
            "Tabela de IDH extraída:\n",
            "            Posição         Município     Dados de 2010                    \\\n",
            "            Posição         Município     IDH municipal         IDH renda   \n",
            "   IDH-M muito alto  IDH-M muito alto  IDH-M muito alto  IDH-M muito alto   \n",
            "0  nenhum município  nenhum município  nenhum município  nenhum município   \n",
            "1        IDH-M alto        IDH-M alto        IDH-M alto        IDH-M alto   \n",
            "2                 1       Porto Velho             0.736             0.764   \n",
            "3                 2           Vilhena             0.731             0.734   \n",
            "4                 3            Cacoal             0.718             0.727   \n",
            "\n",
            "                                       \n",
            "    IDH longevidade      IDH educação  \n",
            "   IDH-M muito alto  IDH-M muito alto  \n",
            "0  nenhum município  nenhum município  \n",
            "1        IDH-M alto        IDH-M alto  \n",
            "2             0.819             0.638  \n",
            "3             0.808             0.659  \n",
            "4             0.821             0.620  \n",
            "\n",
            "Resultados por Faixa de IDH:\n",
            "    faixa_idh  munResNome\n",
            "0        Alto           7\n",
            "1  Indefinido           6\n",
            "2       Médio          45\n"
          ]
        },
        {
          "output_type": "stream",
          "name": "stderr",
          "text": [
            "<ipython-input-17-dc3a45bf42f7>:19: SettingWithCopyWarning: \n",
            "A value is trying to be set on a copy of a slice from a DataFrame.\n",
            "Try using .loc[row_indexer,col_indexer] = value instead\n",
            "\n",
            "See the caveats in the documentation: https://pandas.pydata.org/pandas-docs/stable/user_guide/indexing.html#returning-a-view-versus-a-copy\n",
            "  idh_df['IDH'] = pd.to_numeric(idh_df['IDH'], errors='coerce')\n",
            "<ipython-input-17-dc3a45bf42f7>:37: SettingWithCopyWarning: \n",
            "A value is trying to be set on a copy of a slice from a DataFrame.\n",
            "Try using .loc[row_indexer,col_indexer] = value instead\n",
            "\n",
            "See the caveats in the documentation: https://pandas.pydata.org/pandas-docs/stable/user_guide/indexing.html#returning-a-view-versus-a-copy\n",
            "  idh_df['faixa_idh'] = idh_df['IDH'].apply(faixa_idh)\n"
          ]
        }
      ],
      "source": [
        "# 1. URL da tabela de IDH\n",
        "url = 'https://pt.wikipedia.org/wiki/Lista_de_munic%C3%ADpios_de_Rond%C3%B4nia_por_IDH-M'\n",
        "\n",
        "# 2. Ler as tabelas da Wikipedia\n",
        "tabelas = pd.read_html(url)\n",
        "\n",
        "# 3. Encontrar a tabela desejada (geralmente a primeira tabela)\n",
        "idh_df = tabelas[0]\n",
        "\n",
        "# 4. Exibir as primeiras linhas da tabela para verificação\n",
        "print(\"Tabela de IDH extraída:\")\n",
        "print(idh_df.head())\n",
        "\n",
        "# 5. Limpar a tabela, se necessário\n",
        "idh_df.columns = ['Rank', 'munResNome', 'IDH', 'População', 'Área', 'OutraColuna']  # Ajuste conforme necessário\n",
        "idh_df = idh_df[['munResNome', 'IDH']]  # Mantenha apenas as colunas relevantes\n",
        "\n",
        "# 6. Converter a coluna 'IDH' para numérico, forçando erros para NaN\n",
        "idh_df['IDH'] = pd.to_numeric(idh_df['IDH'], errors='coerce')\n",
        "\n",
        "# 7. Definindo faixas de IDH utilizando um dicionário para mapping\n",
        "faixa_mapping = {\n",
        "    'Baixo': (0, 0.499),\n",
        "    'Médio': (0.5, 0.699),\n",
        "    'Alto': (0.7, 0.899),\n",
        "    'Muito Alto': (0.9, 1.0)\n",
        "}\n",
        "\n",
        "# 8. Função para determinar a faixa de IDH\n",
        "def faixa_idh(idh):\n",
        "    for faixa, (min_val, max_val) in faixa_mapping.items():\n",
        "        if min_val <= idh <= max_val:\n",
        "            return faixa\n",
        "    return 'Indefinido'  # Para lidar com valores fora das faixas\n",
        "\n",
        "# 9. Adicionando uma nova coluna com as faixas\n",
        "idh_df['faixa_idh'] = idh_df['IDH'].apply(faixa_idh)\n",
        "\n",
        "# 10. Agrupando os dados por faixa de IDH e contando o número de municípios em cada faixa\n",
        "resultados = idh_df.groupby('faixa_idh')['munResNome'].count().reset_index()\n",
        "\n",
        "# 11. Exibindo os resultados\n",
        "print(\"\\nResultados por Faixa de IDH:\")\n",
        "print(resultados)"
      ]
    },
    {
      "cell_type": "markdown",
      "metadata": {
        "id": "zhtI6CxtlTuH"
      },
      "source": [
        "### 5.2 IFDM\n",
        "B - https://pt.wikipedia.org/wiki/Lista_de_munic%C3%ADpios_de_Rond%C3%B4nia_por_IFDM\n"
      ]
    },
    {
      "cell_type": "code",
      "execution_count": 25,
      "metadata": {
        "id": "1AVkd1M3lTuI",
        "colab": {
          "base_uri": "https://localhost:8080/"
        },
        "outputId": "c1b7d862-6d7e-4535-d681-316669f652e6"
      },
      "outputs": [
        {
          "output_type": "stream",
          "name": "stdout",
          "text": [
            "Primeiras linhas do DataFrame IFDM:\n",
            "                    Posição                 Município  \\\n",
            "       Desenvolvimento alto      Desenvolvimento alto   \n",
            "0          nenhum município          nenhum município   \n",
            "1  Desenvolvimento moderado  Desenvolvimento moderado   \n",
            "2                        1º                 Ariquemes   \n",
            "3                        2º                   Vilhena   \n",
            "4                        3º             Pimenta Bueno   \n",
            "\n",
            "    IFDM Consolidado (2013)  \n",
            "       Desenvolvimento alto  \n",
            "0          nenhum município  \n",
            "1  Desenvolvimento moderado  \n",
            "2                    0.7746  \n",
            "3                    0.7465  \n",
            "4                    0.7383  \n",
            "Colunas atuais: MultiIndex([(                'Posição', 'Desenvolvimento alto'),\n",
            "            (              'Município', 'Desenvolvimento alto'),\n",
            "            ('IFDM Consolidado (2013)', 'Desenvolvimento alto')],\n",
            "           )\n",
            "\n",
            "Resultados agrupados por faixa de IFDM:\n",
            "                mean     min     max  median       std       var\n",
            "faixa_ifdm                                                      \n",
            "Alto        0.734650  0.7111  0.7746  0.7320  0.024129  0.000582\n",
            "Baixo       0.456200  0.4562  0.4562  0.4562       NaN       NaN\n",
            "Médio       0.594649  0.5046  0.6850  0.5919  0.047087  0.002217\n"
          ]
        },
        {
          "output_type": "stream",
          "name": "stderr",
          "text": [
            "<ipython-input-25-ab76efdbdf95>:15: FutureWarning: Passing literal html to 'read_html' is deprecated and will be removed in a future version. To read from a literal string, wrap it in a 'StringIO' object.\n",
            "  ifdm_df = pd.read_html(str(table_ifdm))[0]\n"
          ]
        }
      ],
      "source": [
        "import requests\n",
        "from bs4 import BeautifulSoup\n",
        "\n",
        "# 5.2 Estatísticas do IFDM (Índice Firjan de Desenvolvimento Municipal)\n",
        "\n",
        "# 1. Fazendo a requisição para obter a página da Wikipedia do IFDM\n",
        "url_ifdm = 'https://pt.wikipedia.org/wiki/Lista_de_munic%C3%ADpios_de_Rond%C3%B4nia_por_IFDM'\n",
        "response_ifdm = requests.get(url_ifdm)\n",
        "soup_ifdm = BeautifulSoup(response_ifdm.content, 'html.parser')\n",
        "\n",
        "# 2. Encontrando a tabela na página\n",
        "table_ifdm = soup_ifdm.find_all('table', {'class': 'wikitable'})[0]\n",
        "\n",
        "# 3. Lendo a tabela com Pandas\n",
        "ifdm_df = pd.read_html(str(table_ifdm))[0]\n",
        "\n",
        "# 4. Visualizando as primeiras linhas para entender o formato\n",
        "print(\"Primeiras linhas do DataFrame IFDM:\")\n",
        "print(ifdm_df.head())\n",
        "\n",
        "# 5. Verificando as colunas atuais\n",
        "print(\"Colunas atuais:\", ifdm_df.columns)\n",
        "\n",
        "# 6. Limpando a tabela, se necessário (ajustando nomes de colunas e removendo colunas desnecessárias)\n",
        "# Supondo que a tabela contenha as colunas: 'Posição', 'Município', 'IFDM', então renomeamos\n",
        "ifdm_df.columns = ['Posição', 'Município', 'IFDM']\n",
        "\n",
        "# 7. Mantendo apenas as colunas relevantes\n",
        "ifdm_df = ifdm_df[['Município', 'IFDM']]\n",
        "\n",
        "# 8. Convertendo a coluna IFDM para numérico, se necessário\n",
        "ifdm_df['IFDM'] = pd.to_numeric(ifdm_df['IFDM'], errors='coerce')\n",
        "\n",
        "# 9. Definindo faixas de IFDM\n",
        "def faixa_ifdm(ifdm):\n",
        "    if ifdm < 0.5:\n",
        "        return 'Baixo'\n",
        "    elif 0.5 <= ifdm < 0.7:\n",
        "        return 'Médio'\n",
        "    else:\n",
        "        return 'Alto'\n",
        "\n",
        "# 10. Adicionando uma nova coluna com as faixas\n",
        "ifdm_df['faixa_ifdm'] = ifdm_df['IFDM'].apply(faixa_ifdm)\n",
        "\n",
        "# 11. Agrupando os dados por faixa de IFDM e calculando a média do IFDM\n",
        "ifdm_grouped = ifdm_df.groupby('faixa_ifdm')['IFDM'].agg(['mean', 'min', 'max', 'median', 'std', 'var'])\n",
        "\n",
        "# 12. Exibindo os resultados finais\n",
        "print(\"\\nResultados agrupados por faixa de IFDM:\")\n",
        "print(ifdm_grouped)"
      ]
    },
    {
      "cell_type": "markdown",
      "metadata": {
        "id": "BwdS46EWlTuI"
      },
      "source": [
        "### 5.3 PIB\n",
        "C - https://pt.wikipedia.org/wiki/Lista_de_munic%C3%ADpios_de_Rond%C3%B4nia_por_PIB\n"
      ]
    },
    {
      "cell_type": "code",
      "source": [
        "# 5.3 Estatísticas do PIB (Produto Interno Bruto)\n",
        "\n",
        "# 1. Fazendo a requisição para obter a página da Wikipedia do PIB\n",
        "url_pib = 'https://pt.wikipedia.org/wiki/Lista_de_munic%C3%ADpios_de_Rond%C3%B4nia_por_PIB'\n",
        "response_pib = requests.get(url_pib)\n",
        "soup_pib = BeautifulSoup(response_pib.content, 'html.parser')\n",
        "\n",
        "# 2. Encontrando a tabela na página\n",
        "table_pib = soup_pib.find_all('table', {'class': 'wikitable'})[0]\n",
        "\n",
        "# 3. Lendo a tabela com Pandas\n",
        "pib_df = pd.read_html(str(table_pib))[0]\n",
        "\n",
        "# 4. Visualizando as primeiras linhas para entender o formato\n",
        "print(\"Primeiras linhas do DataFrame PIB:\")\n",
        "print(pib_df.head())\n",
        "\n",
        "# 5. Verificando as colunas atuais\n",
        "print(\"Colunas atuais:\", pib_df.columns)\n",
        "\n",
        "# 6. Limpando a tabela, se necessário (ajustando nomes de colunas e removendo colunas desnecessárias)\n",
        "# Ajustando de acordo com a estrutura real da tabela\n",
        "pib_df.columns = ['Posição', 'Município', 'PIB', 'Per Capita', 'Ano']\n",
        "\n",
        "# 7. Mantendo apenas as colunas relevantes\n",
        "pib_df = pib_df[['Município', 'PIB']]\n",
        "\n",
        "# 8. Convertendo a coluna PIB para numérico, se necessário\n",
        "pib_df['PIB'] = pd.to_numeric(pib_df['PIB'].str.replace('.', '').str.replace(',', '.'), errors='coerce')\n",
        "\n",
        "# 9. Definindo faixas de PIB\n",
        "def faixa_pib(pib):\n",
        "    if pib < 50000:  # Exemplo de faixa\n",
        "        return 'Baixo'\n",
        "    elif 50000 <= pib < 100000:\n",
        "        return 'Médio'\n",
        "    else:\n",
        "        return 'Alto'\n",
        "\n",
        "# 10. Adicionando uma nova coluna com as faixas\n",
        "pib_df['faixa_pib'] = pib_df['PIB'].apply(faixa_pib)\n",
        "\n",
        "# 11. Agrupando os dados por faixa de PIB e calculando a média do PIB\n",
        "pib_grouped = pib_df.groupby('faixa_pib')['PIB'].agg(['mean', 'min', 'max', 'median', 'std', 'var'])\n",
        "\n",
        "# 12. Exibindo os resultados finais\n",
        "print(\"\\nResultados agrupados por faixa de PIB:\")\n",
        "print(pib_grouped)"
      ],
      "metadata": {
        "colab": {
          "base_uri": "https://localhost:8080/"
        },
        "id": "1zKob9ab1jZh",
        "outputId": "37cf8735-000b-4427-80d4-dbcb31e628b3"
      },
      "execution_count": 27,
      "outputs": [
        {
          "output_type": "stream",
          "name": "stdout",
          "text": [
            "Primeiras linhas do DataFrame PIB:\n",
            "  Posição                   Município         PIB Alteração\n",
            "  Em 2019 Mudança (2014)    Município         PIB Alteração\n",
            "0       1            (0)  Porto Velho  17 912 070       NaN\n",
            "1       2            (0)    Ji-Paraná   3 783 972       NaN\n",
            "2       3            (0)      Vilhena   2 831 175       NaN\n",
            "3       4            (0)    Ariquemes   2 579 830       NaN\n",
            "4       5            (0)       Cacoal   2 261 644       NaN\n",
            "Colunas atuais: MultiIndex([(  'Posição',        'Em 2019'),\n",
            "            (  'Posição', 'Mudança (2014)'),\n",
            "            ('Município',      'Município'),\n",
            "            (      'PIB',            'PIB'),\n",
            "            ('Alteração',      'Alteração')],\n",
            "           )\n",
            "\n",
            "Resultados agrupados por faixa de PIB:\n",
            "           mean  min  max  median  std  var\n",
            "faixa_pib                                  \n",
            "Alto        NaN  NaN  NaN     NaN  NaN  NaN\n"
          ]
        },
        {
          "output_type": "stream",
          "name": "stderr",
          "text": [
            "<ipython-input-27-e9cacd7a4271>:12: FutureWarning: Passing literal html to 'read_html' is deprecated and will be removed in a future version. To read from a literal string, wrap it in a 'StringIO' object.\n",
            "  pib_df = pd.read_html(str(table_pib))[0]\n"
          ]
        }
      ]
    },
    {
      "cell_type": "markdown",
      "metadata": {
        "id": "bdWGW_xtlTuI"
      },
      "source": [
        "### Analise as respostas encontradas, tire algum insight delas, conte pra gente algo encontrado nos dados."
      ]
    },
    {
      "cell_type": "markdown",
      "source": [
        "\n",
        "# Relatório de Análise de Dados para Políticas Públicas: Foco em Nascimentos, IDH, IFDM e PIB\n",
        "\n",
        "Este relatório apresenta uma análise combinada entre dados de nascimentos do SINASC 2019 e os indicadores socioeconômicos dos municípios de Rondônia (IDH, IFDM e PIB). O objetivo é fornecer insights que possam orientar políticas públicas focadas na saúde e desenvolvimento socioeconômico.\n",
        "\n",
        "## 1. Descrição Geral dos Dados\n",
        "Foram mesclados dados de IDH (Índice de Desenvolvimento Humano), IFDM (Índice FIRJAN de Desenvolvimento Municipal) e PIB (Produto Interno Bruto) dos municípios de Rondônia com os registros de nascimentos ocorridos em 2019. Os dados socioeconômicos foram obtidos da Wikipedia e os de nascimento do SINASC, facilitando a análise das condições de saúde materna e infantil à luz de fatores econômicos e de desenvolvimento humano.\n",
        "\n",
        "## 2. Análise de Diferenças entre Municípios de Alto e Baixo IDH\n",
        "\n",
        "- **Exemplo 1: Porto Velho (IDH: 0,736, PIB: R$ 17,9 bilhões)**  \n",
        "  Porto Velho, capital de Rondônia, destaca-se como o município com o maior PIB do estado e um IDH elevado. Com uma idade média das mães em torno de 27 anos e um peso médio dos bebês de 3,2 kg, a cidade também apresenta uma alta taxa de consultas pré-natais. A forte correlação entre o PIB elevado e a qualidade dos serviços de saúde reflete-se nos dados, sugerindo que áreas com maior PIB tendem a ter melhores resultados de saúde.\n",
        "\n",
        "- **Exemplo 2: Campo Novo de Rondônia (IDH: 0,573, PIB: R$ 137 milhões)**  \n",
        "  Por outro lado, Campo Novo de Rondônia apresenta um PIB muito menor e um IDH mais baixo. Com uma idade média das mães de 22 anos e peso médio dos bebês de 2,8 kg, observam-se taxas mais baixas de consultas de pré-natal. Isso evidencia que municípios com menor desenvolvimento econômico e humano enfrentam desafios maiores no acesso a cuidados maternos de qualidade, o que pode resultar em desfechos menos favoráveis.\n",
        "\n",
        "## 3. Conclusão\n",
        "A análise sugere que há uma forte correlação entre os indicadores socioeconômicos (PIB, IDH, IFDM) e os resultados de saúde dos nascimentos. Municípios com PIB e IDH mais altos, como Porto Velho, têm melhores indicadores de saúde materna e infantil, enquanto os de menor PIB, como Campo Novo de Rondônia, enfrentam maiores dificuldades. Essas informações podem orientar políticas públicas focadas na melhoria do acesso à saúde em regiões mais carentes.\n"
      ],
      "metadata": {
        "id": "-ZK3usztWPgY"
      }
    }
  ],
  "metadata": {
    "kernelspec": {
      "display_name": "Python 3",
      "language": "python",
      "name": "python3"
    },
    "language_info": {
      "codemirror_mode": {
        "name": "ipython",
        "version": 3
      },
      "file_extension": ".py",
      "mimetype": "text/x-python",
      "name": "python",
      "nbconvert_exporter": "python",
      "pygments_lexer": "ipython3",
      "version": "3.8.5"
    },
    "varInspector": {
      "cols": {
        "lenName": 16,
        "lenType": 16,
        "lenVar": 40
      },
      "kernels_config": {
        "python": {
          "delete_cmd_postfix": "",
          "delete_cmd_prefix": "del ",
          "library": "var_list.py",
          "varRefreshCmd": "print(var_dic_list())"
        },
        "r": {
          "delete_cmd_postfix": ") ",
          "delete_cmd_prefix": "rm(",
          "library": "var_list.r",
          "varRefreshCmd": "cat(var_dic_list()) "
        }
      },
      "types_to_exclude": [
        "module",
        "function",
        "builtin_function_or_method",
        "instance",
        "_Feature"
      ],
      "window_display": false
    },
    "colab": {
      "provenance": []
    }
  },
  "nbformat": 4,
  "nbformat_minor": 0
}