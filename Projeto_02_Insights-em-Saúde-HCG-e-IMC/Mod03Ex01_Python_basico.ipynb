{
 "cells": [
  {
   "cell_type": "markdown",
   "metadata": {
    "id": "M7_naz8uhLGP"
   },
   "source": [
    "### 01 - Teste de gravidez\n",
    "Escreva uma célula com controle de fluxos que tem como premissa a existência das seguintes variáveis:\n",
    "\n",
    "- ```sexo``` como ```str``` indicando os valores '**M**' para masculino e '**F**' para feminino  \n",
    "- ```beta_hcg``` que indica a quantidade do beta-HCG no sangue em mUI/mL.\n",
    "\n",
    "A sua tarefa é escrever um código que imprima como resultado \"indivíduo do sexo masculino\" quando sexo = 'M', caso sexo = 'F', se o valor de beta-HCG for maior que 5, retorne \"Positivo\" indicando que a paciente está grávida, e retorne \"Negativo\" caso contrário.\n",
    "\n",
    "Não mexa nos valores da variável ```sexo``` nem em ```beta_hcg```, e escreva um código que funcione para quaisquer valores possíveis de ambos: ```sexo``` = '**M**' ou '**F**' e ```beta_hcg``` assumindo valores inteiros positivos."
   ]
  },
  {
   "cell_type": "code",
   "execution_count": 1,
   "metadata": {
    "colab": {
     "base_uri": "https://localhost:8080/"
    },
    "id": "kbxHvOxphLGZ",
    "outputId": "e7ac5e03-1c7b-4fe4-db72-652b6527a9e0"
   },
   "outputs": [
    {
     "name": "stdout",
     "output_type": "stream",
     "text": [
      "Programa de Teste de Gravidez Beta HCG\n",
      "Sexo do bebê (M para Masculino, F para Feminino): F\n",
      "Sexo do bebê: Feminino\n",
      "Digite o valor do resultado do teste beta-HCG: 4\n",
      "Resultado do teste: Negativo\n"
     ]
    }
   ],
   "source": [
    "sexo = 'M'\n",
    "beta_hcg = 0\n",
    "\n",
    "# seu código vem abaixo desta linha\n",
    "\n",
    "sexo = 'M'\n",
    "beta_hcg = 0\n",
    "\n",
    "# seu código vem abaixo desta linha\n",
    "\n",
    "print('Programa de Teste de Gravidez Beta HCG')\n",
    "\n",
    "# Solicitar ao usuário que insira o sexo do bebê\n",
    "sexo_bebe = input('Sexo do bebê (M para Masculino, F para Feminino): ')\n",
    "\n",
    "# Verificação do sexo do bebê\n",
    "if sexo_bebe == 'M':\n",
    "    print('Sexo do bebê: Masculino')\n",
    "elif sexo_bebe == 'F':\n",
    "    print('Sexo do bebê: Feminino')\n",
    "\n",
    "# Solicitar ao usuário que insira o valor do resultado do teste beta-HCG\n",
    "beta_hcg = float(input('Digite o valor do resultado do teste beta-HCG: '))\n",
    "\n",
    "# Verificação do resultado do teste beta-HCG\n",
    "if beta_hcg > 5:\n",
    "    print('Resultado do teste: Positivo')\n",
    "else:\n",
    "    print('Resultado do teste: Negativo')\n"
   ]
  },
  {
   "cell_type": "markdown",
   "metadata": {
    "id": "mNdokg0shLGd"
   },
   "source": [
    "### 02 - Renomeando variáveis\n",
    "\n",
    "Vamos ver adiante que uma forma de renomear variáveis de um conjunto de dados é através de dicionários - o dicionário deve conter como chave o nome original, associando a cada chave um único valor (tipo *str*) que contenha o nome novo.\n",
    "\n",
    "A sua tarefa é escrever um dicionário que possa ser utilizado para traduzir as variáveis ```name``` (nome), ```age``` (idade) e ```income``` (renda). Ou seja, esse dicionário deve relacionar as chaves *name, age* e *income* às suas respectivas traduções."
   ]
  },
  {
   "cell_type": "code",
   "execution_count": 2,
   "metadata": {
    "id": "sydtF7fdhLGf"
   },
   "outputs": [],
   "source": [
    "dic_renomeacao = {'': ''}\n",
    "dic_renomeacao = {'name': 'nome'}\n",
    "dic_renomeacao = {'age': 'idade'}\n",
    "dic_renomeacao = {'income': 'renda'}"
   ]
  },
  {
   "cell_type": "markdown",
   "metadata": {
    "id": "S4wEb3gmhLGg"
   },
   "source": [
    "### 03 - É divisível?\n",
    "A sua tarefa é escrever um código que indique se um número ```N``` é divisível por um número P. Escreva um programa que faça essa verificação para quaisquer combinações de ```N``` e ```M``` e devolva uma mensagem indicativa no output."
   ]
  },
  {
   "cell_type": "code",
   "execution_count": 7,
   "metadata": {
    "colab": {
     "base_uri": "https://localhost:8080/"
    },
    "id": "5PYcOcu_hLG4",
    "outputId": "e35cc8b2-6a78-405d-9240-3dce7a996a97"
   },
   "outputs": [
    {
     "name": "stdout",
     "output_type": "stream",
     "text": [
      "42 é divisível por 7.\n"
     ]
    }
   ],
   "source": [
    "N = 42\n",
    "M = 7\n",
    "\n",
    "#Seu código\n",
    "\n",
    "N = 42\n",
    "M = 7\n",
    "\n",
    "if N % M == 0:\n",
    "    print(f\"{N} é divisível por {M}.\")\n",
    "else:\n",
    "    print(f\"{N} não é divisível por {M}.\")\n"
   ]
  },
  {
   "cell_type": "markdown",
   "metadata": {
    "id": "J23JdUvMhLG7"
   },
   "source": [
    "### 04 - Números primos\n",
    "> Um número **N** é primo se e somente se é divisível por 1, -1, por **N** e por -**N**.  \n",
    "\n",
    "Escreva um script que verifica se ```N``` é um número primo, verificando se ```N``` é divisível por todos os números de ```1``` a ```N-1```. Você vai precisar usar alguma ferramenta de *loop* que você aprendeu para isto. No final, devolva uma mensagem no output indicando se o número é primo ou não."
   ]
  },
  {
   "cell_type": "code",
   "execution_count": 13,
   "metadata": {
    "colab": {
     "base_uri": "https://localhost:8080/"
    },
    "id": "5hRoClG5hLG-",
    "outputId": "da8de0b7-083d-42a5-834a-759734f45128"
   },
   "outputs": [
    {
     "name": "stdout",
     "output_type": "stream",
     "text": [
      "47 é um número primo.\n"
     ]
    }
   ],
   "source": [
    "N = 47\n",
    "# seu código abaixo\n",
    "\n",
    "N = 47\n",
    "primo = True\n",
    "\n",
    "# Verifica se N é divisível por algum número de 2 a N-1\n",
    "for i in range(2, N):\n",
    "    if N % i == 0:\n",
    "        primo = False\n",
    "        break\n",
    "\n",
    "# Se primo ainda for True ao final do loop, então N é primo\n",
    "if primo:\n",
    "    print(f\"{N} é um número primo.\")\n",
    "else:\n",
    "    print(f\"{N} não é um número primo.\")\n"
   ]
  },
  {
   "cell_type": "markdown",
   "metadata": {
    "id": "6apbEKprhLHA"
   },
   "source": [
    "### 05 - Desafio\n",
    "O algorítmo do exercício anterior não é o mais eficiente. O que você pode fazer para deixá-lo mais eficiente? Ou seja, executar menos comparações, portanto consumir menos tempo.\n",
    "1. Será que precisamos correr o loop até o final sempre?\n",
    "2. Será que precisamos mesmo verificar **todos** os números?\n",
    "3. Será que precisamos ir até N-1?\n",
    "\n",
    "Essas perguntas levam ao tipo de pensamento voltado a deixar um algoritmo mais eficiente. Veja se você consegue melhorar o seu."
   ]
  },
  {
   "cell_type": "code",
   "execution_count": 14,
   "metadata": {
    "colab": {
     "base_uri": "https://localhost:8080/"
    },
    "id": "q1_azn4OhLHC",
    "outputId": "89143d16-adb7-4e51-985a-51e5124b0251"
   },
   "outputs": [
    {
     "name": "stdout",
     "output_type": "stream",
     "text": [
      "98 não é um número primo.\n"
     ]
    }
   ],
   "source": [
    "N = 98\n",
    "\n",
    "# seu código aqui\n",
    "\n",
    "import math\n",
    "\n",
    "N = 98\n",
    "primo = True\n",
    "\n",
    "# Verifica se N é divisível por algum número ímpar até a raiz quadrada de N\n",
    "if N > 2 and N % 2 == 0:\n",
    "    primo = False\n",
    "else:\n",
    "    for i in range(3, int(math.sqrt(N)) + 1, 2):\n",
    "        if N % i == 0:\n",
    "            primo = False\n",
    "            break\n",
    "\n",
    "# Se primo ainda for True ao final do loop, então N é primo\n",
    "if primo:\n",
    "    print(f\"{N} é um número primo.\")\n",
    "else:\n",
    "    print(f\"{N} não é um número primo.\")\n"
   ]
  },
  {
   "cell_type": "markdown",
   "metadata": {
    "id": "oLZx3QWjhLHF"
   },
   "source": [
    "### 06 - Peso ideal 1\n",
    "O IMC (índice de massa corpórea) é um indicador de saúde mais bem aceito que o peso. Ele é calculado como:\n",
    "\n",
    "$$ IMC = \\dfrac{peso}{altura^2}$$\n",
    "\n",
    "Segundo a OMS, valores *normais* são entre 18.5 e 24.9.\n",
    "\n",
    "Sua tarefa é encontrar o ponto médio dessa faixa."
   ]
  },
  {
   "cell_type": "code",
   "execution_count": 18,
   "metadata": {
    "colab": {
     "base_uri": "https://localhost:8080/"
    },
    "id": "bJUlSimDhLHI",
    "outputId": "7f5e4136-6be5-4d6d-f79a-bbc8667731a7"
   },
   "outputs": [
    {
     "name": "stdout",
     "output_type": "stream",
     "text": [
      "O ponto médio da faixa de IMC normal é: 21.7\n"
     ]
    }
   ],
   "source": [
    "imc_ideal = 1,70\n",
    "imc_ideal\n",
    "\n",
    "# Valores mínimo e máximo do IMC normal\n",
    "imc_minimo = 18.5\n",
    "imc_maximo = 24.9\n",
    "\n",
    "# Calcula o ponto médio da faixa de IMC normal\n",
    "imc_ideal = (imc_minimo + imc_maximo) / 2\n",
    "\n",
    "print(\"O ponto médio da faixa de IMC normal é:\", imc_ideal)"
   ]
  },
  {
   "cell_type": "markdown",
   "metadata": {
    "id": "S2ClCik2hLHK"
   },
   "source": [
    "### 07 - Peso ideal 2\n",
    "Recebendo um valor de altura, encontre o peso '*ideal*' dessa pessoa, que fornece o IMC encontrado acima"
   ]
  },
  {
   "cell_type": "code",
   "execution_count": 19,
   "metadata": {
    "colab": {
     "base_uri": "https://localhost:8080/"
    },
    "id": "7YL5MiG5hLHP",
    "outputId": "52f5f041-8369-4df1-fb5e-012e26d1eb35"
   },
   "outputs": [
    {
     "name": "stdout",
     "output_type": "stream",
     "text": [
      "Digite a altura da pessoa em metros: 1.80\n",
      "Digite o peso da pessoa em quilogramas: 85\n",
      "O IMC da pessoa é: 26.234567901234566\n"
     ]
    }
   ],
   "source": [
    "altura = 1.70\n",
    "\n",
    "# Seu código\n",
    "\n",
    "altura = float(input(\"Digite a altura da pessoa em metros: \"))\n",
    "peso = float(input(\"Digite o peso da pessoa em quilogramas: \"))\n",
    "\n",
    "# Calcula o IMC usando a fórmula\n",
    "imc = peso / (altura ** 2)\n",
    "\n",
    "print(\"O IMC da pessoa é:\", imc)\n"
   ]
  },
  {
   "cell_type": "markdown",
   "metadata": {
    "id": "fViZ0kw_hLHQ"
   },
   "source": [
    "### 08 - Peso ideal 3\n",
    "Dada uma lista contendo as alturas de pacientes, crie uma nova lista que contenha o peso '*ideal*' (que fornece o IMC calculado em **Peso ideal 1**) desses pacientes."
   ]
  },
  {
   "cell_type": "code",
   "execution_count": 20,
   "metadata": {
    "colab": {
     "base_uri": "https://localhost:8080/"
    },
    "id": "xg5rtxpQhLHQ",
    "outputId": "26f72343-0a79-45e8-9281-250938ba8770"
   },
   "outputs": [
    {
     "name": "stdout",
     "output_type": "stream",
     "text": [
      "Lista de peso ideal dos pacientes: [82.51424999999999, 91.19425, 62.712999999999994, 59.07824999999999]\n"
     ]
    },
    {
     "data": {
      "text/plain": [
       "[82.51424999999999, 91.19425, 62.712999999999994, 59.07824999999999]"
      ]
     },
     "execution_count": 20,
     "metadata": {},
     "output_type": "execute_result"
    }
   ],
   "source": [
    "lista_alturas = [1.95, 2.05, 1.70, 1.65]\n",
    "\n",
    "lista_peso_ideal = []\n",
    "\n",
    "# seu código\n",
    "\n",
    "\n",
    "# Calcula o peso ideal para cada altura na lista de alturas\n",
    "for altura in lista_alturas:\n",
    "    peso_ideal = imc_ideal * altura**2\n",
    "    lista_peso_ideal.append(peso_ideal)\n",
    "\n",
    "print(\"Lista de peso ideal dos pacientes:\", lista_peso_ideal)\n",
    "\n",
    "lista_peso_ideal"
   ]
  },
  {
   "cell_type": "markdown",
   "metadata": {
    "id": "eKytWDFlhLHS"
   },
   "source": [
    "### 09 - Peso ideal 4\n",
    "Dada uma lista de tuplas - cada elemento da lista é uma tupla contendo altura e peso de um paciente - crie uma nova lista com o IMC desses pacientes."
   ]
  },
  {
   "cell_type": "code",
   "execution_count": 22,
   "metadata": {
    "colab": {
     "base_uri": "https://localhost:8080/"
    },
    "id": "-JhB1PLOhLHS",
    "outputId": "cd4a360c-ec94-470e-d3aa-22a437f03f7c"
   },
   "outputs": [
    {
     "name": "stdout",
     "output_type": "stream",
     "text": [
      "Lista de IMC dos pacientes: [27.777777777777775, 27.548209366391188, 19.188070502453332]\n"
     ]
    }
   ],
   "source": [
    "altura_peso = [(1.80, 90), (1.65, 75), (1.91, 70)]\n",
    "\n",
    "imc = []\n",
    "\n",
    "# seu código\n",
    "\n",
    "# Itera sobre cada tupla na lista de altura_peso\n",
    "for altura, peso in altura_peso:\n",
    "    # Calcula o IMC usando a fórmula: peso / (altura ** 2)\n",
    "    imc_paciente = peso / (altura ** 2)\n",
    "    # Adiciona o IMC calculado à lista imc\n",
    "    imc.append(imc_paciente)\n",
    "\n",
    "print(\"Lista de IMC dos pacientes:\", imc)"
   ]
  },
  {
   "cell_type": "markdown",
   "metadata": {
    "id": "qI3vPvP2hLHW"
   },
   "source": [
    "### 10 - Peso ideal 5\n",
    "Dada uma lista de **listas** - cada elemento da lista é uma **lista** contendo altura e peso de um paciente, adicione mais um elemento à lista de cada paciente contendo o IMC do paciente. Verifique também se é 'baixo', 'normal' ou 'alto' segundo os padrões da OMS em que normal é entre 18.5 e 24.9.\n",
    "\n",
    "Reflexão: por que no problema anterior temos que criar uma nova lista, e não podemos adicionar os dados de cada indivíduo à tupla?"
   ]
  },
  {
   "cell_type": "code",
   "execution_count": 24,
   "metadata": {
    "colab": {
     "base_uri": "https://localhost:8080/"
    },
    "id": "n8VqMnBLhLHY",
    "outputId": "7e8882a7-3951-4644-f70a-d6cdfd45a240"
   },
   "outputs": [
    {
     "name": "stdout",
     "output_type": "stream",
     "text": [
      "Dados atualizados dos pacientes: [[1.8, 90, 27.777777777777775, 'alto'], [1.65, 75, 27.548209366391188, 'alto'], [1.91, 70, 19.188070502453332, 'normal']]\n"
     ]
    }
   ],
   "source": [
    "altura_peso = [[1.80, 90], [1.65, 75], [1.91, 70]]\n",
    "\n",
    "# seu código\n",
    "\n",
    "altura_peso = [[1.80, 90], [1.65, 75], [1.91, 70]]\n",
    "\n",
    "# Itera sobre cada lista na lista altura_peso\n",
    "for paciente in altura_peso:\n",
    "    altura, peso = paciente\n",
    "    imc = peso / (altura ** 2)  # Calcula o IMC\n",
    "\n",
    "    # Adiciona o IMC à lista do paciente\n",
    "    paciente.append(imc)\n",
    "\n",
    "    # Verifica a classificação do IMC\n",
    "    if imc < 18.5:\n",
    "        classificacao = 'baixo'\n",
    "    elif imc <= 24.9:\n",
    "        classificacao = 'normal'\n",
    "    else:\n",
    "        classificacao = 'alto'\n",
    "\n",
    "    # Adiciona a classificação à lista do paciente\n",
    "    paciente.append(classificacao)\n",
    "\n",
    "print(\"Dados atualizados dos pacientes:\", altura_peso)"
   ]
  }
 ],
 "metadata": {
  "colab": {
   "provenance": []
  },
  "kernelspec": {
   "display_name": "Python 3 (ipykernel)",
   "language": "python",
   "name": "python3"
  },
  "language_info": {
   "codemirror_mode": {
    "name": "ipython",
    "version": 3
   },
   "file_extension": ".py",
   "mimetype": "text/x-python",
   "name": "python",
   "nbconvert_exporter": "python",
   "pygments_lexer": "ipython3",
   "version": "3.11.7"
  }
 },
 "nbformat": 4,
 "nbformat_minor": 4
}
