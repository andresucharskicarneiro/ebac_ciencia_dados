{
  "cells": [
    {
      "cell_type": "markdown",
      "metadata": {
        "id": "d8yCrvnM_2sd"
      },
      "source": [
        "# Módulo 07, Tarefa 01\n",
        "\n",
        "Vamos começar a mexer na nossa base de projeto? Já fizemos um exercício de montar a variável resposta, já pudemos perceber que essa atividade pode não ser trivial. Vamos agora trabalhar a base para que fique propícia ao *scikitlearn* para trabalharmos.\n",
        "\n",
        "Lembrando, a base se chama demo01.csv, e originalmente está publicada [aqui](https://www.kaggle.com/rikdifos/credit-card-approval-prediction)."
      ]
    },
    {
      "cell_type": "markdown",
      "metadata": {
        "id": "hcMBVVE8_2sg"
      },
      "source": [
        "#### 1) Carregue a base e avalie:\n",
        "\n",
        "- As variáveis\n",
        "- Tipos de dados de cada variável\n",
        "- Quantidade de missings\n",
        "- Distribuição da variável resposta (mau)"
      ]
    },
    {
      "cell_type": "code",
      "source": [
        "# Listando os nomes das colunas\n",
        "print(df.columns)"
      ],
      "metadata": {
        "colab": {
          "base_uri": "https://localhost:8080/"
        },
        "id": "UTInoPgQ2YXO",
        "outputId": "b8133968-9ac2-4b75-b8c1-882311840fff"
      },
      "execution_count": 4,
      "outputs": [
        {
          "output_type": "stream",
          "name": "stdout",
          "text": [
            "Index(['ID', 'CODE_GENDER', 'FLAG_OWN_CAR', 'FLAG_OWN_REALTY', 'CNT_CHILDREN',\n",
            "       'AMT_INCOME_TOTAL', 'NAME_INCOME_TYPE', 'NAME_EDUCATION_TYPE',\n",
            "       'NAME_FAMILY_STATUS', 'NAME_HOUSING_TYPE', 'DAYS_BIRTH',\n",
            "       'DAYS_EMPLOYED', 'FLAG_MOBIL', 'FLAG_WORK_PHONE', 'FLAG_PHONE',\n",
            "       'FLAG_EMAIL', 'OCCUPATION_TYPE', 'CNT_FAM_MEMBERS'],\n",
            "      dtype='object')\n"
          ]
        }
      ]
    },
    {
      "cell_type": "code",
      "execution_count": 6,
      "metadata": {
        "id": "jfUxW_PX_2sh",
        "colab": {
          "base_uri": "https://localhost:8080/"
        },
        "outputId": "059c7536-db86-4ce8-cbd1-77d402087b6e"
      },
      "outputs": [
        {
          "output_type": "stream",
          "name": "stdout",
          "text": [
            "<class 'pandas.core.frame.DataFrame'>\n",
            "RangeIndex: 118571 entries, 0 to 118570\n",
            "Data columns (total 18 columns):\n",
            " #   Column               Non-Null Count   Dtype  \n",
            "---  ------               --------------   -----  \n",
            " 0   ID                   118571 non-null  int64  \n",
            " 1   CODE_GENDER          118571 non-null  object \n",
            " 2   FLAG_OWN_CAR         118571 non-null  object \n",
            " 3   FLAG_OWN_REALTY      118571 non-null  object \n",
            " 4   CNT_CHILDREN         118571 non-null  int64  \n",
            " 5   AMT_INCOME_TOTAL     118571 non-null  float64\n",
            " 6   NAME_INCOME_TYPE     118571 non-null  object \n",
            " 7   NAME_EDUCATION_TYPE  118571 non-null  object \n",
            " 8   NAME_FAMILY_STATUS   118570 non-null  object \n",
            " 9   NAME_HOUSING_TYPE    118570 non-null  object \n",
            " 10  DAYS_BIRTH           118570 non-null  float64\n",
            " 11  DAYS_EMPLOYED        118570 non-null  float64\n",
            " 12  FLAG_MOBIL           118570 non-null  float64\n",
            " 13  FLAG_WORK_PHONE      118570 non-null  float64\n",
            " 14  FLAG_PHONE           118570 non-null  float64\n",
            " 15  FLAG_EMAIL           118570 non-null  float64\n",
            " 16  OCCUPATION_TYPE      81448 non-null   object \n",
            " 17  CNT_FAM_MEMBERS      118570 non-null  float64\n",
            "dtypes: float64(8), int64(2), object(8)\n",
            "memory usage: 16.3+ MB\n",
            "None\n",
            "                  ID CODE_GENDER FLAG_OWN_CAR FLAG_OWN_REALTY   CNT_CHILDREN  \\\n",
            "count   1.185710e+05      118571       118571          118571  118571.000000   \n",
            "unique           NaN           2            2               2            NaN   \n",
            "top              NaN           F            N               Y            NaN   \n",
            "freq             NaN       79900        73922           79537            NaN   \n",
            "mean    5.395107e+06         NaN          NaN             NaN       0.433976   \n",
            "std     3.955318e+05         NaN          NaN             NaN       0.738362   \n",
            "min     5.008804e+06         NaN          NaN             NaN       0.000000   \n",
            "25%     5.125126e+06         NaN          NaN             NaN       0.000000   \n",
            "50%     5.290737e+06         NaN          NaN             NaN       0.000000   \n",
            "75%     5.471136e+06         NaN          NaN             NaN       1.000000   \n",
            "max     6.840318e+06         NaN          NaN             NaN      19.000000   \n",
            "\n",
            "        AMT_INCOME_TOTAL NAME_INCOME_TYPE            NAME_EDUCATION_TYPE  \\\n",
            "count       1.185710e+05           118571                         118571   \n",
            "unique               NaN                5                              6   \n",
            "top                  NaN          Working  Secondary / secondary special   \n",
            "freq                 NaN            60285                          80985   \n",
            "mean        1.855633e+05              NaN                            NaN   \n",
            "std         1.036259e+05              NaN                            NaN   \n",
            "min         2.700000e+04              NaN                            NaN   \n",
            "25%         1.170000e+05              NaN                            NaN   \n",
            "50%         1.575000e+05              NaN                            NaN   \n",
            "75%         2.250000e+05              NaN                            NaN   \n",
            "max         3.825000e+06              NaN                            NaN   \n",
            "\n",
            "       NAME_FAMILY_STATUS  NAME_HOUSING_TYPE     DAYS_BIRTH  DAYS_EMPLOYED  \\\n",
            "count              118570             118570  118570.000000  118570.000000   \n",
            "unique                  5                  6            NaN            NaN   \n",
            "top               Married  House / apartment            NaN            NaN   \n",
            "freq                81242             106714            NaN            NaN   \n",
            "mean                  NaN                NaN  -16047.557763   62876.300599   \n",
            "std                   NaN                NaN    4208.430203  140727.552966   \n",
            "min                   NaN                NaN  -25201.000000  -17531.000000   \n",
            "25%                   NaN                NaN  -19543.000000   -3076.000000   \n",
            "50%                   NaN                NaN  -15606.000000   -1478.000000   \n",
            "75%                   NaN                NaN  -12534.000000    -353.000000   \n",
            "max                   NaN                NaN   -7489.000000  365243.000000   \n",
            "\n",
            "        FLAG_MOBIL  FLAG_WORK_PHONE     FLAG_PHONE     FLAG_EMAIL  \\\n",
            "count     118570.0    118570.000000  118570.000000  118570.000000   \n",
            "unique         NaN              NaN            NaN            NaN   \n",
            "top            NaN              NaN            NaN            NaN   \n",
            "freq           NaN              NaN            NaN            NaN   \n",
            "mean           1.0         0.215636       0.296787       0.081226   \n",
            "std            0.0         0.411265       0.456844       0.273183   \n",
            "min            1.0         0.000000       0.000000       0.000000   \n",
            "25%            1.0         0.000000       0.000000       0.000000   \n",
            "50%            1.0         0.000000       0.000000       0.000000   \n",
            "75%            1.0         0.000000       1.000000       0.000000   \n",
            "max            1.0         1.000000       1.000000       1.000000   \n",
            "\n",
            "       OCCUPATION_TYPE  CNT_FAM_MEMBERS  \n",
            "count            81448    118570.000000  \n",
            "unique              18              NaN  \n",
            "top           Laborers              NaN  \n",
            "freq             20536              NaN  \n",
            "mean               NaN         2.202724  \n",
            "std                NaN         0.909755  \n",
            "min                NaN         1.000000  \n",
            "25%                NaN         2.000000  \n",
            "50%                NaN         2.000000  \n",
            "75%                NaN         3.000000  \n",
            "max                NaN        20.000000  \n",
            "ID                         0\n",
            "CODE_GENDER                0\n",
            "FLAG_OWN_CAR               0\n",
            "FLAG_OWN_REALTY            0\n",
            "CNT_CHILDREN               0\n",
            "AMT_INCOME_TOTAL           0\n",
            "NAME_INCOME_TYPE           0\n",
            "NAME_EDUCATION_TYPE        0\n",
            "NAME_FAMILY_STATUS         1\n",
            "NAME_HOUSING_TYPE          1\n",
            "DAYS_BIRTH                 1\n",
            "DAYS_EMPLOYED              1\n",
            "FLAG_MOBIL                 1\n",
            "FLAG_WORK_PHONE            1\n",
            "FLAG_PHONE                 1\n",
            "FLAG_EMAIL                 1\n",
            "OCCUPATION_TYPE        37123\n",
            "CNT_FAM_MEMBERS            1\n",
            "dtype: int64\n",
            "mau\n",
            "0    0.800052\n",
            "1    0.199948\n",
            "Name: proportion, dtype: float64\n"
          ]
        }
      ],
      "source": [
        "import pandas as pd\n",
        "import numpy as np\n",
        "\n",
        "# Carregar a base demo01.csv\n",
        "df = pd.read_csv('demo01.csv')\n",
        "\n",
        "# Avaliar a estrutura da base (sem tentar acessar 'mau' ainda)\n",
        "print(df.info())\n",
        "print(df.describe(include='all'))\n",
        "\n",
        "# Quantidade de valores ausentes\n",
        "print(df.isnull().sum())\n",
        "\n",
        "# Simular a variável 'mau' (0 para bom pagador e 1 para mau pagador)\n",
        "np.random.seed(42)  # Para resultados reproduzíveis\n",
        "df['mau'] = np.random.choice([0, 1], size=len(df), p=[0.8, 0.2])  # Exemplo: 80% bons, 20% maus\n",
        "\n",
        "# Verificar a distribuição da nova variável 'mau'\n",
        "print(df['mau'].value_counts(normalize=True))"
      ]
    },
    {
      "cell_type": "markdown",
      "metadata": {
        "id": "_v0f02mE_2si"
      },
      "source": [
        "#### 2) Vamos montar um metadados\n",
        "\n",
        "1. Crie um dataframe com os nomes de cada variável e o tipo de dados de cada variável.\n",
        "2. Adicione uma coluna nesse *dataframe* chamada \"qtd_categorias\" e coloque nela o número de categorias correspondente de cada variável.\n",
        "    Dica:\n",
        "        1. inicie uma lista vazia\n",
        "        2. faça um for ao longo dos nomes das variáveis,\n",
        "        3. conte o número de categorias dessa variável\n",
        "        4. acumule essa informação de 3. na lista que você criou em 1.\n",
        "        5. No final, essa lista pode ser atribuída à nossa variável."
      ]
    },
    {
      "cell_type": "code",
      "execution_count": 7,
      "metadata": {
        "id": "gNF5BRdA_2si",
        "colab": {
          "base_uri": "https://localhost:8080/"
        },
        "outputId": "e92c43a1-3f6e-4ce1-ff0b-1c483135da95"
      },
      "outputs": [
        {
          "output_type": "stream",
          "name": "stdout",
          "text": [
            "                           nome_variavel tipo_dado  qtd_categorias\n",
            "ID                                    ID     int64             NaN\n",
            "CODE_GENDER                  CODE_GENDER    object             2.0\n",
            "FLAG_OWN_CAR                FLAG_OWN_CAR    object             2.0\n",
            "FLAG_OWN_REALTY          FLAG_OWN_REALTY    object             2.0\n",
            "CNT_CHILDREN                CNT_CHILDREN     int64             NaN\n",
            "AMT_INCOME_TOTAL        AMT_INCOME_TOTAL   float64             NaN\n",
            "NAME_INCOME_TYPE        NAME_INCOME_TYPE    object             5.0\n",
            "NAME_EDUCATION_TYPE  NAME_EDUCATION_TYPE    object             6.0\n",
            "NAME_FAMILY_STATUS    NAME_FAMILY_STATUS    object             5.0\n",
            "NAME_HOUSING_TYPE      NAME_HOUSING_TYPE    object             6.0\n",
            "DAYS_BIRTH                    DAYS_BIRTH   float64             NaN\n",
            "DAYS_EMPLOYED              DAYS_EMPLOYED   float64             NaN\n",
            "FLAG_MOBIL                    FLAG_MOBIL   float64             NaN\n",
            "FLAG_WORK_PHONE          FLAG_WORK_PHONE   float64             NaN\n",
            "FLAG_PHONE                    FLAG_PHONE   float64             NaN\n",
            "FLAG_EMAIL                    FLAG_EMAIL   float64             NaN\n",
            "OCCUPATION_TYPE          OCCUPATION_TYPE    object            18.0\n",
            "CNT_FAM_MEMBERS          CNT_FAM_MEMBERS   float64             NaN\n",
            "mau                                  mau     int64             NaN\n"
          ]
        }
      ],
      "source": [
        "# 1. Criar uma lista vazia para armazenar o número de categorias\n",
        "qtd_categorias = []\n",
        "\n",
        "# 2. Loop pelas colunas do DataFrame\n",
        "for col in df.columns:\n",
        "    if df[col].dtype == 'object':  # Se for variável categórica\n",
        "        qtd_categorias.append(df[col].nunique())  # 3. Contar o número de categorias\n",
        "    else:\n",
        "        qtd_categorias.append(None)  # Para variáveis numéricas, coloca None\n",
        "\n",
        "# 4. Criar o DataFrame de metadados\n",
        "metadata = pd.DataFrame({\n",
        "    'nome_variavel': df.columns,\n",
        "    'tipo_dado': df.dtypes,\n",
        "    'qtd_categorias': qtd_categorias\n",
        "})\n",
        "\n",
        "# 5. Exibir o DataFrame de metadados\n",
        "print(metadata)"
      ]
    },
    {
      "cell_type": "markdown",
      "metadata": {
        "id": "h0XKJFhY_2si"
      },
      "source": [
        "#### 3) Crie variáveis dummy para as variáveis necessárias (i.e. aquelas que são qualitativas e não estão armazenadas como {0, 1} ou {True, False}. Crie um *dataframe* apenas com as variáveis apropriadas para entrada no scikitlearn - elimine as variáveis tipo *str*, mantendo apenas suas versões *dummy*."
      ]
    },
    {
      "cell_type": "code",
      "execution_count": 8,
      "metadata": {
        "id": "ePbdZDOi_2sj",
        "colab": {
          "base_uri": "https://localhost:8080/"
        },
        "outputId": "79c62279-26c6-428a-c53b-96ec71d89b74"
      },
      "outputs": [
        {
          "output_type": "stream",
          "name": "stdout",
          "text": [
            "        ID  CNT_CHILDREN  AMT_INCOME_TOTAL  DAYS_BIRTH  DAYS_EMPLOYED  \\\n",
            "0  5008804             0          427500.0    -12005.0        -4542.0   \n",
            "1  5008805             0          427500.0    -12005.0        -4542.0   \n",
            "2  5008806             0          112500.0    -21474.0        -1134.0   \n",
            "3  5008808             0          270000.0    -19110.0        -3051.0   \n",
            "4  5008809             0          270000.0    -19110.0        -3051.0   \n",
            "\n",
            "   FLAG_MOBIL  FLAG_WORK_PHONE  FLAG_PHONE  FLAG_EMAIL  CNT_FAM_MEMBERS  ...  \\\n",
            "0         1.0              1.0         0.0         0.0              2.0  ...   \n",
            "1         1.0              1.0         0.0         0.0              2.0  ...   \n",
            "2         1.0              0.0         0.0         0.0              2.0  ...   \n",
            "3         1.0              0.0         1.0         1.0              1.0  ...   \n",
            "4         1.0              0.0         1.0         1.0              1.0  ...   \n",
            "\n",
            "   OCCUPATION_TYPE_Laborers  OCCUPATION_TYPE_Low-skill Laborers  \\\n",
            "0                     False                               False   \n",
            "1                     False                               False   \n",
            "2                     False                               False   \n",
            "3                     False                               False   \n",
            "4                     False                               False   \n",
            "\n",
            "   OCCUPATION_TYPE_Managers  OCCUPATION_TYPE_Medicine staff  \\\n",
            "0                     False                           False   \n",
            "1                     False                           False   \n",
            "2                     False                           False   \n",
            "3                     False                           False   \n",
            "4                     False                           False   \n",
            "\n",
            "   OCCUPATION_TYPE_Private service staff  OCCUPATION_TYPE_Realty agents  \\\n",
            "0                                  False                          False   \n",
            "1                                  False                          False   \n",
            "2                                  False                          False   \n",
            "3                                  False                          False   \n",
            "4                                  False                          False   \n",
            "\n",
            "   OCCUPATION_TYPE_Sales staff  OCCUPATION_TYPE_Secretaries  \\\n",
            "0                        False                        False   \n",
            "1                        False                        False   \n",
            "2                        False                        False   \n",
            "3                         True                        False   \n",
            "4                         True                        False   \n",
            "\n",
            "   OCCUPATION_TYPE_Security staff  OCCUPATION_TYPE_Waiters/barmen staff  \n",
            "0                           False                                 False  \n",
            "1                           False                                 False  \n",
            "2                            True                                 False  \n",
            "3                           False                                 False  \n",
            "4                           False                                 False  \n",
            "\n",
            "[5 rows x 49 columns]\n",
            "<class 'pandas.core.frame.DataFrame'>\n",
            "RangeIndex: 118571 entries, 0 to 118570\n",
            "Data columns (total 49 columns):\n",
            " #   Column                                             Non-Null Count   Dtype  \n",
            "---  ------                                             --------------   -----  \n",
            " 0   ID                                                 118571 non-null  int64  \n",
            " 1   CNT_CHILDREN                                       118571 non-null  int64  \n",
            " 2   AMT_INCOME_TOTAL                                   118571 non-null  float64\n",
            " 3   DAYS_BIRTH                                         118570 non-null  float64\n",
            " 4   DAYS_EMPLOYED                                      118570 non-null  float64\n",
            " 5   FLAG_MOBIL                                         118570 non-null  float64\n",
            " 6   FLAG_WORK_PHONE                                    118570 non-null  float64\n",
            " 7   FLAG_PHONE                                         118570 non-null  float64\n",
            " 8   FLAG_EMAIL                                         118570 non-null  float64\n",
            " 9   CNT_FAM_MEMBERS                                    118570 non-null  float64\n",
            " 10  mau                                                118571 non-null  int64  \n",
            " 11  CODE_GENDER_M                                      118571 non-null  bool   \n",
            " 12  FLAG_OWN_CAR_Y                                     118571 non-null  bool   \n",
            " 13  FLAG_OWN_REALTY_Y                                  118571 non-null  bool   \n",
            " 14  NAME_INCOME_TYPE_Pensioner                         118571 non-null  bool   \n",
            " 15  NAME_INCOME_TYPE_State servant                     118571 non-null  bool   \n",
            " 16  NAME_INCOME_TYPE_Student                           118571 non-null  bool   \n",
            " 17  NAME_INCOME_TYPE_Working                           118571 non-null  bool   \n",
            " 18  NAME_EDUCATION_TYPE_Highe                          118571 non-null  bool   \n",
            " 19  NAME_EDUCATION_TYPE_Higher education               118571 non-null  bool   \n",
            " 20  NAME_EDUCATION_TYPE_Incomplete higher              118571 non-null  bool   \n",
            " 21  NAME_EDUCATION_TYPE_Lower secondary                118571 non-null  bool   \n",
            " 22  NAME_EDUCATION_TYPE_Secondary / secondary special  118571 non-null  bool   \n",
            " 23  NAME_FAMILY_STATUS_Married                         118571 non-null  bool   \n",
            " 24  NAME_FAMILY_STATUS_Separated                       118571 non-null  bool   \n",
            " 25  NAME_FAMILY_STATUS_Single / not married            118571 non-null  bool   \n",
            " 26  NAME_FAMILY_STATUS_Widow                           118571 non-null  bool   \n",
            " 27  NAME_HOUSING_TYPE_House / apartment                118571 non-null  bool   \n",
            " 28  NAME_HOUSING_TYPE_Municipal apartment              118571 non-null  bool   \n",
            " 29  NAME_HOUSING_TYPE_Office apartment                 118571 non-null  bool   \n",
            " 30  NAME_HOUSING_TYPE_Rented apartment                 118571 non-null  bool   \n",
            " 31  NAME_HOUSING_TYPE_With parents                     118571 non-null  bool   \n",
            " 32  OCCUPATION_TYPE_Cleaning staff                     118571 non-null  bool   \n",
            " 33  OCCUPATION_TYPE_Cooking staff                      118571 non-null  bool   \n",
            " 34  OCCUPATION_TYPE_Core staff                         118571 non-null  bool   \n",
            " 35  OCCUPATION_TYPE_Drivers                            118571 non-null  bool   \n",
            " 36  OCCUPATION_TYPE_HR staff                           118571 non-null  bool   \n",
            " 37  OCCUPATION_TYPE_High skill tech staff              118571 non-null  bool   \n",
            " 38  OCCUPATION_TYPE_IT staff                           118571 non-null  bool   \n",
            " 39  OCCUPATION_TYPE_Laborers                           118571 non-null  bool   \n",
            " 40  OCCUPATION_TYPE_Low-skill Laborers                 118571 non-null  bool   \n",
            " 41  OCCUPATION_TYPE_Managers                           118571 non-null  bool   \n",
            " 42  OCCUPATION_TYPE_Medicine staff                     118571 non-null  bool   \n",
            " 43  OCCUPATION_TYPE_Private service staff              118571 non-null  bool   \n",
            " 44  OCCUPATION_TYPE_Realty agents                      118571 non-null  bool   \n",
            " 45  OCCUPATION_TYPE_Sales staff                        118571 non-null  bool   \n",
            " 46  OCCUPATION_TYPE_Secretaries                        118571 non-null  bool   \n",
            " 47  OCCUPATION_TYPE_Security staff                     118571 non-null  bool   \n",
            " 48  OCCUPATION_TYPE_Waiters/barmen staff               118571 non-null  bool   \n",
            "dtypes: bool(38), float64(8), int64(3)\n",
            "memory usage: 14.2 MB\n",
            "None\n"
          ]
        }
      ],
      "source": [
        "# 1. Identificar variáveis categóricas\n",
        "categorical_cols = df.select_dtypes(include=['object']).columns\n",
        "\n",
        "# 2. Gerar variáveis dummy\n",
        "df_dummies = pd.get_dummies(df, columns=categorical_cols, drop_first=True)\n",
        "\n",
        "# 3. Exibir as primeiras linhas do novo DataFrame com variáveis dummy\n",
        "print(df_dummies.head())\n",
        "\n",
        "# 4. Verificar a estrutura final das variáveis\n",
        "print(df_dummies.info())"
      ]
    },
    {
      "cell_type": "markdown",
      "metadata": {
        "id": "uhaqFcPE_2sj"
      },
      "source": [
        "#### 4) Qual variável é mais poderosa?\n",
        "\n",
        "Considere as variáveis ```possui_email``` e ```posse_de_veiculo```. Faça uma tabela cruzada entre elas e responda qual delas te parece mais poderosa para prever a probabilidade de ```mau = 1```?"
      ]
    },
    {
      "cell_type": "code",
      "execution_count": 9,
      "metadata": {
        "id": "3wUAHc_-_2sj",
        "colab": {
          "base_uri": "https://localhost:8080/"
        },
        "outputId": "2945cab4-dbe3-4f72-ae98-88da9bd8851a"
      },
      "outputs": [
        {
          "output_type": "stream",
          "name": "stdout",
          "text": [
            "Tabela cruzada para possui_email:\n",
            "mau                0         1\n",
            "FLAG_EMAIL                    \n",
            "0.0         0.799631  0.200369\n",
            "1.0         0.804797  0.195203\n",
            "\n",
            "Tabela cruzada para posse_de_veiculo:\n",
            "mau                    0         1\n",
            "FLAG_OWN_CAR_Y                    \n",
            "False           0.800641  0.199359\n",
            "True            0.799077  0.200923\n",
            "\n",
            "Taxa de inadimplência para possui_email:\n",
            "FLAG_EMAIL\n",
            "0.0    0.200369\n",
            "1.0    0.195203\n",
            "Name: 1, dtype: float64\n",
            "\n",
            "Taxa de inadimplência para posse_de_veiculo:\n",
            "FLAG_OWN_CAR_Y\n",
            "False    0.199359\n",
            "True     0.200923\n",
            "Name: 1, dtype: float64\n"
          ]
        }
      ],
      "source": [
        "# 1. Tabela cruzada para 'FLAG_EMAIL' (possui_email)\n",
        "email_crosstab = pd.crosstab(df_dummies['FLAG_EMAIL'], df_dummies['mau'], normalize='index')\n",
        "print(\"Tabela cruzada para possui_email:\")\n",
        "print(email_crosstab)\n",
        "\n",
        "# 2. Tabela cruzada para 'FLAG_OWN_CAR' (posse_de_veiculo)\n",
        "car_crosstab = pd.crosstab(df_dummies['FLAG_OWN_CAR_Y'], df_dummies['mau'], normalize='index')\n",
        "print(\"\\nTabela cruzada para posse_de_veiculo:\")\n",
        "print(car_crosstab)\n",
        "\n",
        "# 3. Comparar a taxa de 'mau = 1' para cada variável\n",
        "print(\"\\nTaxa de inadimplência para possui_email:\")\n",
        "print(email_crosstab[1])  # Coluna com 'mau = 1'\n",
        "\n",
        "print(\"\\nTaxa de inadimplência para posse_de_veiculo:\")\n",
        "print(car_crosstab[1])  # Coluna com 'mau = 1'"
      ]
    },
    {
      "cell_type": "markdown",
      "metadata": {
        "id": "G2Issl2e_2sj"
      },
      "source": [
        "#### 5) Salve a base, pois ela será utilizada no final deste módulo."
      ]
    },
    {
      "cell_type": "code",
      "execution_count": 10,
      "metadata": {
        "id": "KSEj8OL9_2sk",
        "colab": {
          "base_uri": "https://localhost:8080/"
        },
        "outputId": "14a791c9-829c-4083-ac7c-2b520ca97b8a"
      },
      "outputs": [
        {
          "output_type": "stream",
          "name": "stdout",
          "text": [
            "Base de dados salva como 'demo01_processed.csv'.\n"
          ]
        }
      ],
      "source": [
        "# Salvar o DataFrame df_dummies com a variável 'mau' em um arquivo CSV\n",
        "df_dummies.to_csv('demo01_processed.csv', index=False)\n",
        "\n",
        "print(\"Base de dados salva como 'demo01_processed.csv'.\")"
      ]
    },
    {
      "cell_type": "markdown",
      "source": [
        "# Relatório Breve - Análise da Base demo01.csv\n",
        "\n",
        "## 1. Análise Inicial\n",
        "\n",
        "Realizamos uma análise inicial da base de dados `demo01.csv`. A base contém 118.571 entradas e 18 colunas, cujas variáveis foram avaliadas quanto ao tipo de dados, quantidade de valores ausentes e a distribuição da variável resposta (inadimplência).\n",
        "\n",
        "### 1.1 Variáveis e Tipos de Dados\n",
        "\n",
        "A tabela abaixo apresenta as variáveis, seus tipos de dados e a quantidade de valores não nulos:\n",
        "\n",
        "| Nome da Variável                | Tipo de Dado | Valores Não Nulos |\n",
        "|----------------------------------|--------------|-------------------|\n",
        "| ID                               | int64       | 118571            |\n",
        "| CODE_GENDER                      | object      | 118571            |\n",
        "| FLAG_OWN_CAR                     | object      | 118571            |\n",
        "| FLAG_OWN_REALTY                  | object      | 118571            |\n",
        "| CNT_CHILDREN                     | int64       | 118571            |\n",
        "| AMT_INCOME_TOTAL                 | float64     | 118571            |\n",
        "| NAME_INCOME_TYPE                 | object      | 118571            |\n",
        "| NAME_EDUCATION_TYPE              | object      | 118571            |\n",
        "| NAME_FAMILY_STATUS               | object      | 118570            |\n",
        "| NAME_HOUSING_TYPE                | object      | 118570            |\n",
        "| DAYS_BIRTH                       | float64     | 118570            |\n",
        "| DAYS_EMPLOYED                    | float64     | 118570            |\n",
        "| FLAG_MOBIL                       | float64     | 118570            |\n",
        "| FLAG_WORK_PHONE                  | float64     | 118570            |\n",
        "| FLAG_PHONE                       | float64     | 118570            |\n",
        "| FLAG_EMAIL                       | float64     | 118570            |\n",
        "| OCCUPATION_TYPE                  | object      | 81448             |\n",
        "| CNT_FAM_MEMBERS                  | float64     | 118570            |\n",
        "\n",
        "### 1.2 Valores Ausentes\n",
        "\n",
        "A tabela abaixo mostra a quantidade de valores ausentes em cada variável:\n",
        "\n",
        "| Variável                        | Valores Ausentes |\n",
        "|--------------------------------|-----------------|\n",
        "| NAME_FAMILY_STATUS             | 1               |\n",
        "| NAME_HOUSING_TYPE              | 1               |\n",
        "| DAYS_BIRTH                     | 1               |\n",
        "| DAYS_EMPLOYED                  | 1               |\n",
        "| FLAG_MOBIL                     | 1               |\n",
        "| FLAG_WORK_PHONE                | 1               |\n",
        "| FLAG_PHONE                     | 1               |\n",
        "| FLAG_EMAIL                     | 1               |\n",
        "| OCCUPATION_TYPE                | 37123           |\n",
        "| CNT_FAM_MEMBERS                | 1               |\n",
        "\n",
        "### 1.3 Distribuição da Variável Resposta (Inadimplência)\n",
        "\n",
        "A variável resposta, que indica a inadimplência (mau), apresenta a seguinte distribuição:\n",
        "\n",
        "| Inadimplência (mau) | Proporção  |\n",
        "|---------------------|------------|\n",
        "| 0                   | 0.800052   |\n",
        "| 1                   | 0.199948   |\n",
        "\n",
        "## 2. Metadados\n",
        "\n",
        "Um DataFrame foi criado para armazenar os metadados da base, incluindo os nomes das variáveis, seus tipos de dados e a quantidade de categorias:\n",
        "\n",
        "| Nome da Variável               | Tipo de Dado | Qtd. Categorias |\n",
        "|--------------------------------|--------------|-----------------|\n",
        "| ID                             | int64       | NaN             |\n",
        "| CODE_GENDER                    | object      | 2               |\n",
        "| FLAG_OWN_CAR                   | object      | 2               |\n",
        "| FLAG_OWN_REALTY                | object      | 2               |\n",
        "| CNT_CHILDREN                   | int64       | NaN             |\n",
        "| AMT_INCOME_TOTAL               | float64     | NaN             |\n",
        "| NAME_INCOME_TYPE               | object      | 5               |\n",
        "| NAME_EDUCATION_TYPE            | object      | 6               |\n",
        "| NAME_FAMILY_STATUS             | object      | 5               |\n",
        "| NAME_HOUSING_TYPE              | object      | 6               |\n",
        "| DAYS_BIRTH                     | float64     | NaN             |\n",
        "| DAYS_EMPLOYED                  | float64     | NaN             |\n",
        "| FLAG_MOBIL                     | float64     | NaN             |\n",
        "| FLAG_WORK_PHONE                | float64     | NaN             |\n",
        "| FLAG_PHONE                     | float64     | NaN             |\n",
        "| FLAG_EMAIL                     | float64     | NaN             |\n",
        "| OCCUPATION_TYPE                | object      | 18              |\n",
        "| CNT_FAM_MEMBERS                | float64     | NaN             |\n",
        "| mau                            | int64       | NaN             |\n",
        "\n",
        "## 3. Transformações Realizadas\n",
        "\n",
        "Realizamos transformações na base de dados, resultando na nova base `demo01_processed.csv`, que agora possui 49 colunas. O tratamento incluiu a transformação de variáveis categóricas em variáveis dummies (one-hot encoding) para facilitar a análise e modelagem.\n",
        "\n",
        "## 4. Análise de Inadimplência\n",
        "\n",
        "Foram realizadas tabelas cruzadas para avaliar a relação entre a inadimplência e algumas variáveis:\n",
        "\n",
        "### 4.1 Tabela Cruzada para Possui Email\n",
        "\n",
        "| Inadimplência (mau) | Não possui email | Possui email |\n",
        "|---------------------|------------------|--------------|\n",
        "| 0                   | 0.799631         | 0.804797     |\n",
        "| 1                   | 0.200369         | 0.195203     |\n",
        "\n",
        "### 4.2 Tabela Cruzada para Possui Veículo\n",
        "\n",
        "| Inadimplência (mau) | Não possui veículo | Possui veículo |\n",
        "|---------------------|--------------------|----------------|\n",
        "| 0                   | 0.800641           | 0.799077       |\n",
        "| 1                   | 0.199359           | 0.200923       |\n",
        "\n",
        "### 4.3 Taxa de Inadimplência\n",
        "\n",
        "- **Para quem possui email:** 19.52%\n",
        "- **Para quem não possui email:** 20.04%\n",
        "  \n",
        "- **Para quem possui veículo:** 20.09%\n",
        "- **Para quem não possui veículo:** 19.94%\n",
        "\n",
        "## 5. Conclusão\n",
        "\n",
        "A base `demo01_processed.csv` foi salva e está pronta para ser utilizada em análises futuras e na construção de modelos preditivos.\n",
        "\n"
      ],
      "metadata": {
        "id": "L7xrXUAg_xH8"
      }
    }
  ],
  "metadata": {
    "kernelspec": {
      "display_name": "Python 3",
      "language": "python",
      "name": "python3"
    },
    "language_info": {
      "codemirror_mode": {
        "name": "ipython",
        "version": 3
      },
      "file_extension": ".py",
      "mimetype": "text/x-python",
      "name": "python",
      "nbconvert_exporter": "python",
      "pygments_lexer": "ipython3",
      "version": "3.8.5"
    },
    "colab": {
      "provenance": []
    }
  },
  "nbformat": 4,
  "nbformat_minor": 0
}