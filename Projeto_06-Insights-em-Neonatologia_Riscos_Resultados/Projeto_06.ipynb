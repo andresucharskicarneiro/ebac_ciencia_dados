{
  "cells": [
    {
      "cell_type": "markdown",
      "metadata": {
        "id": "NkUGd9YEPvwL"
      },
      "source": [
        "# Módulo 5 Tarefa 1\n",
        "## Base de nascidos vivos do DataSUS\n",
        "O DataSUS disponibiliza diversos arquivos de dados com relação a seus segurados, conforme a [lei da transparência de informações públicas](https://www.sisgov.com/transparencia-acesso-informacao/#:~:text=A%20Lei%20da%20Transpar%C3%AAncia%20(LC,em%20um%20site%20na%20internet.).\n",
        "\n",
        "Essas informações podem ser obtidas pela internet [aqui](http://www2.datasus.gov.br/DATASUS/index.php?area=0901&item=1). Como o processo de obtenção desses arquivos foge um pouco do nosso escopo, deixamos o arquivo SINASC_RO_2019.csv` já como vai ser encontrado no DataSUS. O dicionário de dados está no arquivo `estrutura_sinasc_para_CD.pdf` (o nome do arquivo tal qual no portal do DataSUS).\n",
        "\n",
        "### Nosso objetivo\n",
        "Queremos deixar uma base organizada para podermos estudar a relação entre partos com risco para o bebê e algumas condições como tempo de parto, consultas de pré-natal etc.\n",
        "\n",
        "#### Preparação da base\n",
        "1. Carregue a base 'SINASC_RO_2019.csv'. Conte o número de registros e o número de registros não duplicados da base. Dica: você aprendeu um método que remove duplicados, encadeie este método com um outro método que conta o número de linhas. **Há linhas duplicadas?**  \n",
        "\n",
        "2. Conte o número de valores *missing* por variável.  \n",
        "\n",
        "3. Ok, no item anterior você deve ter achado pouco prático ler a informação de tantas variáveis, muitas delas nem devem ser interesantes. Então crie uma seleção dessa base somente com as colunas que interessam. São elas:\n",
        "`\n",
        "['LOCNASC', 'IDADEMAE', 'ESTCIVMAE', 'ESCMAE', 'QTDFILVIVO',\n",
        "    'GESTACAO', 'GRAVIDEZ', 'CONSULTAS', 'APGAR5']\n",
        "`\n",
        "Refaça a contagem de valores *missings*.  \n",
        "\n",
        "4. Apgar é uma *nota* que o pediatra dá ao bebê quando nasce de acordo com algumas características associadas principalmente à respiração. Apgar 1 e Apgar 5 são as notas 1 e 5 minutos do nascimento. Apgar5 será a nossa variável de interesse principal. Então remova todos os registros com Apgar5 não preenchido. Para esta seleção, conte novamente o número de linhas e o número de *missings*.  \n",
        "\n",
        "5. observe que as variáveis `['ESTCIVMAE', 'CONSULTAS']` possuem o código `9`, que significa *ignorado*. Vamos assumir que o não preenchido é o mesmo que o código `9`.<br>\n",
        "6. Substitua os valores faltantes da quantitativa (`QTDFILVIVO`) por zero.  \n",
        "7. Das restantes, decida que valore te parece mais adequado (um 'não preenchido' ou um valor 'mais provável' como no item anterior) e preencha. Justifique. Lembre-se de que tratamento de dados é trabalho do cientista, e que estamos tomando decisões a todo o momento - não há necessariamente certo e errado aqui.  \n",
        "8. O Apgar possui uma classificação indicando se o bebê passou por asfixia:\n",
        "- Entre 8 e 10 está em uma faixa 'normal'.\n",
        "- Entre 6 e 7, significa que o recém-nascido passou por 'asfixia leve'.\n",
        "- Entre 4 e 5 significa 'asfixia moderada'.\n",
        "- Entre 0 e 3 significa 'asfixia severa'.  \n",
        "\n",
        "Crie uma categorização dessa variável com essa codificação e calcule as frequências dessa categorização.  \n",
        "<br>\n",
        "9. Renomeie as variáveis para que fiquem no *snake case*, ou seja, em letras minúsculas, com um *underscore* entre as palávras. Dica: repare que se você não quiser criar um *dataframe* novo, você vai precisar usar a opção `inplace = True`."
      ]
    },
    {
      "cell_type": "code",
      "execution_count": 3,
      "metadata": {
        "colab": {
          "base_uri": "https://localhost:8080/"
        },
        "id": "6w76qePnPvwU",
        "outputId": "d1f7b435-bf0d-421b-cd3d-5b0fa916fa71"
      },
      "outputs": [
        {
          "output_type": "stream",
          "name": "stdout",
          "text": [
            "Número total de registros: 27028\n",
            "Número de registros únicos: 27028\n"
          ]
        }
      ],
      "source": [
        "import pandas as pd\n",
        "import requests\n",
        "\n",
        "# 1) Carregar a base e verificar duplicados:\n",
        "\n",
        "# Carregando a base de dados\n",
        "sinasc = pd.read_csv('SINASC_RO_2019.csv')\n",
        "\n",
        "# Contando número de registros\n",
        "print(f\"Número total de registros: {sinasc.shape[0]}\")\n",
        "\n",
        "# Removendo duplicados e contando número de registros únicos\n",
        "sinasc_unique = sinasc.drop_duplicates()\n",
        "print(f\"Número de registros únicos: {sinasc_unique.shape[0]}\")"
      ]
    },
    {
      "cell_type": "code",
      "execution_count": 4,
      "metadata": {
        "colab": {
          "base_uri": "https://localhost:8080/"
        },
        "id": "9uVA2qQSPvwW",
        "outputId": "a8b87369-85af-4edf-ca32-b6bb030d9b4a"
      },
      "outputs": [
        {
          "output_type": "stream",
          "name": "stdout",
          "text": [
            "Valores missing por variável:\n",
            " ORIGEM          0\n",
            "CODESTAB      115\n",
            "CODMUNNASC      0\n",
            "LOCNASC         0\n",
            "IDADEMAE        0\n",
            "             ... \n",
            "munResUf        0\n",
            "munResLat       1\n",
            "munResLon       1\n",
            "munResAlt       1\n",
            "munResArea      1\n",
            "Length: 69, dtype: int64\n"
          ]
        }
      ],
      "source": [
        "# 2) Contar valores missing por variável:\n",
        "\n",
        "# Contar valores missing por coluna\n",
        "missing_values = sinasc.isnull().sum()\n",
        "print(\"Valores missing por variável:\\n\", missing_values)"
      ]
    },
    {
      "cell_type": "code",
      "execution_count": 5,
      "metadata": {
        "colab": {
          "base_uri": "https://localhost:8080/"
        },
        "id": "L8w_1JJNPvwX",
        "outputId": "8e03dc8f-4372-40e7-cadc-56b8b5d3a992"
      },
      "outputs": [
        {
          "output_type": "stream",
          "name": "stdout",
          "text": [
            "Valores missing nas colunas selecionadas:\n",
            " LOCNASC          0\n",
            "IDADEMAE         0\n",
            "ESTCIVMAE      317\n",
            "ESCMAE         312\n",
            "QTDFILVIVO    1573\n",
            "GESTACAO      1232\n",
            "GRAVIDEZ        79\n",
            "CONSULTAS        0\n",
            "APGAR5         103\n",
            "dtype: int64\n"
          ]
        }
      ],
      "source": [
        "# 3) Selecionar colunas de interesse e contar valores missing novamente:\n",
        "\n",
        "# Selecionar colunas de interesse\n",
        "cols_interesse = ['LOCNASC', 'IDADEMAE', 'ESTCIVMAE', 'ESCMAE', 'QTDFILVIVO', 'GESTACAO', 'GRAVIDEZ', 'CONSULTAS', 'APGAR5']\n",
        "sinasc_selecionado = sinasc[cols_interesse]\n",
        "\n",
        "# Contar valores missing nas colunas de interesse\n",
        "missing_values_selecionado = sinasc_selecionado.isnull().sum()\n",
        "print(\"Valores missing nas colunas selecionadas:\\n\", missing_values_selecionado)\n"
      ]
    },
    {
      "cell_type": "code",
      "execution_count": 6,
      "metadata": {
        "colab": {
          "base_uri": "https://localhost:8080/"
        },
        "id": "66UNB6K0Pvwb",
        "outputId": "f75e786b-43b9-4e40-baff-07fe8088e435"
      },
      "outputs": [
        {
          "output_type": "stream",
          "name": "stdout",
          "text": [
            "Número de linhas após remoção de APGAR5 não preenchido: 26925\n",
            "Valores missing após remoção de APGAR5:\n",
            " LOCNASC          0\n",
            "IDADEMAE         0\n",
            "ESTCIVMAE      315\n",
            "ESCMAE         310\n",
            "QTDFILVIVO    1566\n",
            "GESTACAO      1216\n",
            "GRAVIDEZ        76\n",
            "CONSULTAS        0\n",
            "APGAR5           0\n",
            "dtype: int64\n"
          ]
        }
      ],
      "source": [
        "# 4) Remover registros com APGAR5 não preenchido:\n",
        "\n",
        "# Remover registros com APGAR5 não preenchido\n",
        "sinasc_selecionado = sinasc_selecionado.dropna(subset=['APGAR5'])\n",
        "\n",
        "# Contar o número de linhas após remoção e valores missing\n",
        "print(f\"Número de linhas após remoção de APGAR5 não preenchido: {sinasc_selecionado.shape[0]}\")\n",
        "missing_values_pos_remocao = sinasc_selecionado.isnull().sum()\n",
        "print(\"Valores missing após remoção de APGAR5:\\n\", missing_values_pos_remocao)\n"
      ]
    },
    {
      "cell_type": "code",
      "execution_count": 7,
      "metadata": {
        "id": "2Z6xhx_0Pvwc"
      },
      "outputs": [],
      "source": [
        "# 5) Tratar os valores 9 como missing para ESTCIVMAE e CONSULTAS:\n",
        "\n",
        "# Substituir o valor 9 por NaN para ESTCIVMAE e CONSULTAS\n",
        "sinasc_selecionado['ESTCIVMAE'] = sinasc_selecionado['ESTCIVMAE'].replace(9, pd.NA)\n",
        "sinasc_selecionado['CONSULTAS'] = sinasc_selecionado['CONSULTAS'].replace(9, pd.NA)\n",
        "\n"
      ]
    },
    {
      "cell_type": "code",
      "execution_count": 8,
      "metadata": {
        "id": "Iq5XXf64Pvwe"
      },
      "outputs": [],
      "source": [
        "# 6) Substituir valores missing de QTDFILVIVO por zero:\n",
        "\n",
        "# Substituir valores missing de QTDFILVIVO por zero\n",
        "sinasc_selecionado['QTDFILVIVO'].fillna(0, inplace=True)\n",
        "\n"
      ]
    },
    {
      "cell_type": "code",
      "execution_count": 9,
      "metadata": {
        "id": "BqTE1Q-mPvwe"
      },
      "outputs": [],
      "source": [
        "# 7) Decidir sobre outros valores missing e justificativas: Você pode decidir entre substituir os valores missing com o valor mais comum ou mantê-los como NaN. Por exemplo:\n",
        "\n",
        "# Exemplo: Substituir missing de GESTACAO com a moda (valor mais comum)\n",
        "gestacao_moda = sinasc_selecionado['GESTACAO'].mode()[0]\n",
        "sinasc_selecionado['GESTACAO'].fillna(gestacao_moda, inplace=True)\n"
      ]
    },
    {
      "cell_type": "code",
      "execution_count": 10,
      "metadata": {
        "colab": {
          "base_uri": "https://localhost:8080/"
        },
        "id": "-eh5BAAiPvwf",
        "outputId": "2ad0cfc3-9ac6-4f9f-d78a-d50a77db29d2"
      },
      "outputs": [
        {
          "output_type": "stream",
          "name": "stdout",
          "text": [
            "Frequência da categorização de APGAR5:\n",
            " APGAR5_CATEGORIA\n",
            "normal              26463\n",
            "asfixia leve          320\n",
            "asfixia severa         74\n",
            "asfixia moderada       68\n",
            "Name: count, dtype: int64\n"
          ]
        }
      ],
      "source": [
        "# 8) Criar categorização da variável APGAR5:\n",
        "\n",
        "# Criar uma categorização para APGAR5\n",
        "def categorizar_apgar5(apgar5):\n",
        "    if apgar5 >= 8:\n",
        "        return 'normal'\n",
        "    elif apgar5 >= 6:\n",
        "        return 'asfixia leve'\n",
        "    elif apgar5 >= 4:\n",
        "        return 'asfixia moderada'\n",
        "    else:\n",
        "        return 'asfixia severa'\n",
        "\n",
        "sinasc_selecionado['APGAR5_CATEGORIA'] = sinasc_selecionado['APGAR5'].apply(categorizar_apgar5)\n",
        "\n",
        "# Calcular frequências dessa categorização\n",
        "freq_apgar5 = sinasc_selecionado['APGAR5_CATEGORIA'].value_counts()\n",
        "print(\"Frequência da categorização de APGAR5:\\n\", freq_apgar5)\n"
      ]
    },
    {
      "cell_type": "code",
      "execution_count": 11,
      "metadata": {
        "id": "uabyz857Pvwh"
      },
      "outputs": [],
      "source": [
        "# 9) Renomear variáveis para snake case:\n",
        "\n",
        "# Renomear as colunas para snake case\n",
        "sinasc_selecionado.columns = sinasc_selecionado.columns.str.lower().str.replace(' ', '_')\n",
        "\n"
      ]
    },
    {
      "cell_type": "markdown",
      "source": [
        "## Conclusão sobre a Análise de Nascidos Vivos em Rondônia (RO) - 2019\n",
        "\n",
        "Com base nos resultados obtidos, algumas conclusões importantes podem ser tiradas sobre a situação dos nascimentos em Rondônia, levando em consideração a taxa de asfixia neonatal e possíveis fatores de risco:\n",
        "\n",
        "### 1. Taxa de Asfixia Neonatal\n",
        "\n",
        "A categorização da variável `APGAR5`, que reflete o estado de saúde dos recém-nascidos 5 minutos após o nascimento, revelou as seguintes frequências:\n",
        "\n",
        "- **Normal (APGAR 8-10)**: 26.463 casos (98,28%)\n",
        "- **Asfixia Leve (APGAR 6-7)**: 320 casos (1,19%)\n",
        "- **Asfixia Moderada (APGAR 4-5)**: 68 casos (0,25%)\n",
        "- **Asfixia Severa (APGAR 0-3)**: 74 casos (0,27%)\n",
        "\n",
        "Embora a maioria dos bebês tenha nascido em condições normais, uma pequena porcentagem sofreu asfixia leve a severa. **A maior taxa de mortes de bebês está provavelmente associada aos casos de asfixia severa (0,27%)**, uma vez que esta categoria está fortemente relacionada ao risco de mortalidade neonatal.\n",
        "\n",
        "### 2. Fatores Possíveis Associados à Asfixia\n",
        "\n",
        "Alguns fatores que, com base na literatura médica, podem estar relacionados à asfixia neonatal incluem:\n",
        "\n",
        "- **Gestação Precoce ou Tardia**: Valores missing na variável `GESTACAO` foram 1.216 casos. Prematuridade (gestação abaixo de 37 semanas) é um fator de risco conhecido para complicações como asfixia.\n",
        "  \n",
        "- **Número de Consultas Pré-Natal**: A ausência de consultas pré-natais adequadas é outro fator. O pré-natal insuficiente pode levar a partos com complicações. Mães com menos de 4 consultas podem ter maior risco de complicações.\n",
        "\n",
        "- **Gravidez Múltipla**: A variável `GRAVIDEZ` apresentou 76 valores missing. Gravidezes múltiplas (gêmeos, trigêmeos) têm mais complicações, incluindo maior risco de asfixia.\n",
        "\n",
        "- **Idade Materna e Condições Socioeconômicas**: Variáveis como `IDADEMAE`, `ESTCIVMAE` (estado civil) e `ESCMAE` (escolaridade) podem influenciar nos resultados. Mães muito jovens ou mais velhas e de baixa escolaridade têm maior chance de complicações no parto.\n",
        "\n",
        "- **Tipo de Parto**: O tipo de parto (vaginal ou cesáreo) pode afetar os resultados neonatais. Cesáreas de emergência, por exemplo, estão frequentemente associadas a complicações como asfixia.\n",
        "\n",
        "### 3. Conclusão Geral\n",
        "\n",
        "Apesar da taxa de asfixia severa ser pequena (0,27%), ela representa um risco considerável para a mortalidade neonatal. Complicações como prematuridade, pré-natal insuficiente, partos múltiplos e condições socioeconômicas desfavoráveis são fatores a serem considerados para mitigar os riscos.\n",
        "\n",
        "**Recomendações**: Investigar mais profundamente esses fatores e garantir acesso adequado a cuidados de saúde durante a gravidez pode reduzir as taxas de mortalidade e complicações no nascimento.\n"
      ],
      "metadata": {
        "id": "R4fZKg3acq__"
      }
    }
  ],
  "metadata": {
    "kernelspec": {
      "display_name": "Python 3",
      "language": "python",
      "name": "python3"
    },
    "language_info": {
      "codemirror_mode": {
        "name": "ipython",
        "version": 3
      },
      "file_extension": ".py",
      "mimetype": "text/x-python",
      "name": "python",
      "nbconvert_exporter": "python",
      "pygments_lexer": "ipython3",
      "version": "3.8.5"
    },
    "colab": {
      "provenance": []
    }
  },
  "nbformat": 4,
  "nbformat_minor": 0
}