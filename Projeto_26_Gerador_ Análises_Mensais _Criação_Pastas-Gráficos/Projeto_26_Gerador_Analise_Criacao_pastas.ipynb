{
  "nbformat": 4,
  "nbformat_minor": 0,
  "metadata": {
    "colab": {
      "provenance": []
    },
    "kernelspec": {
      "name": "python3",
      "display_name": "Python 3"
    },
    "language_info": {
      "name": "python"
    }
  },
  "cells": [
    {
      "cell_type": "markdown",
      "source": [
        "# Modulo 14 Tarefa 02 - Geração de Diretórios e Gráficos\n",
        "\n",
        "Crie um script que receba uma lista de abreviaturas de meses (MAR, ABR, MAI, JUN, etc.) como argumento e gera as pastas e gráficos necessários para os meses de referência.\n"
      ],
      "metadata": {
        "id": "mvfVpDVJpVch"
      }
    },
    {
      "cell_type": "code",
      "source": [
        "import os\n",
        "import sys\n",
        "import pandas as pd\n",
        "import matplotlib.pyplot as plt\n",
        "\n",
        "# Mapeamento de abreviaturas de meses para números e nomes de pastas\n",
        "meses_map = {\n",
        "    'MAR': ('03', 'marco'),\n",
        "    'ABR': ('04', 'abril'),\n",
        "    'MAI': ('05', 'maio'),\n",
        "    'JUN': ('06', 'junho'),\n",
        "    'JUL': ('07', 'julho'),\n",
        "    'AGO': ('08', 'agosto'),\n",
        "    'SET': ('09', 'setembro'),\n",
        "    'OUT': ('10', 'outubro'),\n",
        "    'NOV': ('11', 'novembro'),\n",
        "    'DEZ': ('12', 'dezembro')\n",
        "}\n",
        "\n",
        "# Função para gerar gráficos\n",
        "def gerar_grafico(dados, variavel, mes, ano='2019'):\n",
        "    plt.figure()\n",
        "    plt.hist(dados[variavel], bins=20, alpha=0.7, color='blue')\n",
        "    plt.title(f'Distribuição de {variavel} em {mes} {ano}')\n",
        "    plt.xlabel(variavel)\n",
        "    plt.ylabel('Frequência')\n",
        "\n",
        "    # Criando a pasta se não existir\n",
        "    pasta = f'graficos/{ano}-{mes}'\n",
        "    os.makedirs(pasta, exist_ok=True)\n",
        "\n",
        "    # Salvando o gráfico\n",
        "    plt.savefig(f'{pasta}/grafico_{variavel}_{mes}_{ano}.png')\n",
        "    plt.close()\n",
        "\n",
        "# Verificando se o usuário passou os argumentos corretos\n",
        "if len(sys.argv) < 2:\n",
        "    print(\"Uso: python gerar_analise.py MAR ABR MAI JUN JUL\")\n",
        "    sys.exit(1)\n",
        "\n",
        "# Processando os meses recebidos como argumento\n",
        "for abreviatura in sys.argv[1:]:\n",
        "    if abreviatura in meses_map:\n",
        "        mes_num, mes_nome = meses_map[abreviatura]\n",
        "\n",
        "        # Carregar os dados do respectivo mês (assumindo que o arquivo existe)\n",
        "        arquivo = f'SINASC_RO_2019_{mes_nome.upper()}.csv'  # Ajuste o nome do arquivo se necessário\n",
        "        dados = pd.read_csv(arquivo)  # Lendo a base de dados\n",
        "\n",
        "        # Gerar gráficos para variáveis de interesse\n",
        "        for variavel in ['IDADEMAE', 'PESO', 'APGAR5']:\n",
        "            gerar_grafico(dados, variavel, mes_num)\n",
        "\n",
        "print(\"Pastas e gráficos gerados com sucesso!\")\n"
      ],
      "metadata": {
        "colab": {
          "base_uri": "https://localhost:8080/"
        },
        "id": "BBGzJ7jfpvCA",
        "outputId": "5d7bf6f3-2dc5-46af-9cba-f083bc114eb7"
      },
      "execution_count": 1,
      "outputs": [
        {
          "output_type": "stream",
          "name": "stdout",
          "text": [
            "Pastas e gráficos gerados com sucesso!\n"
          ]
        }
      ]
    },
    {
      "cell_type": "markdown",
      "source": [
        "# Como Usar\n",
        "\n",
        "1. Salve o código acima em um arquivo chamado `gerar_analise.py`.\n",
        "\n",
        "2. Certifique-se de que você tenha os arquivos CSV para os meses correspondentes na mesma pasta onde o script está salvo. Os nomes dos arquivos devem seguir o padrão: `SINASC_RO_2019_marco.csv`, `SINASC_RO_2019_abril.csv`, etc.\n",
        "\n",
        "3. Execute o script via terminal, passando as abreviaturas dos meses como argumentos. Por exemplo:\n",
        "\n",
        "    ```bash\n",
        "    python gerar_analise.py MAR ABR MAI JUN JUL\n",
        "    ```\n",
        "\n",
        "## Estrutura de Diretórios e Gráficos\n",
        "\n",
        "Após a execução, o script criará pastas no formato `2019-03`, `2019-04`, `2019-05`, `2019-06`, `2019-07`, onde cada pasta conterá gráficos correspondentes às variáveis de interesse (`IDADEMAE`, `PESO`, `APGAR5`).\n",
        "\n",
        "## Nota\n",
        "\n",
        "- **Dependências:** Certifique-se de ter as bibliotecas `pandas` e `matplotlib` instaladas. Você pode instalá-las usando:\n",
        "\n",
        "    ```bash\n",
        "    pip install pandas matplotlib\n",
        "    ```\n",
        "\n",
        "- **Tratamento de Erros:** O script não inclui tratamento extensivo de erros, como verificação se o arquivo CSV existe ou se as colunas de dados estão corretas. Considere adicionar essas verificações conforme necessário.\n",
        "\n"
      ],
      "metadata": {
        "id": "YbNIvQh0qNhM"
      }
    }
  ]
}