{
 "cells": [
  {
   "cell_type": "markdown",
   "metadata": {
    "id": "qamP8yO2mU5T"
   },
   "source": [
    "# Tarefa 01\n",
    "\n",
    "- Leia os enunciados com atenção\n",
    "- Saiba que pode haver mais de uma resposta correta\n",
    "- Insira novas células de código sempre que achar necessário\n",
    "- Em caso de dúvidas, procure os tutores\n",
    "- Divirta-se :)\n",
    "\n",
    "#### 1)  crie uma série do pandas a partir de uma lista com os dados abaixo:\n",
    "\n",
    "Em um estudo sobre alteração na tempreatura global, A NASA disponibiliza dados de diferenças de de temperatura média da superfície terrestre relativos às médias de temperatura entre 1951 e 1980. Os dados originais podem ser vistos no site da NASA/GISS, e estão dispostos a cada década na tabela abaixo.\n",
    "\n",
    "|ano|anomalia termica|\n",
    "|:-:|:----:|\n",
    "| 1900 | -0.08 |\n",
    "| 1920 | -0.27 |\n",
    "| 1940 | 0.12 |\n",
    "| 1960 | -0.03 |\n",
    "| 1980 | 0.26 |\n",
    "| 2000 | 0.40 |\n",
    "| 2020 | 1.02 |\n",
    "\n",
    "Crie uma séries do Pandas a partir de uma lista com esses dados."
   ]
  },
  {
   "cell_type": "code",
   "execution_count": 1,
   "metadata": {
    "id": "QqjokvGPmU5d"
   },
   "outputs": [
    {
     "data": {
      "text/plain": [
       "0   -0.08\n",
       "1   -0.27\n",
       "2    0.12\n",
       "3   -0.03\n",
       "4    0.26\n",
       "5    0.40\n",
       "6    1.02\n",
       "dtype: float64"
      ]
     },
     "execution_count": 1,
     "metadata": {},
     "output_type": "execute_result"
    }
   ],
   "source": [
    "import pandas as pd\n",
    "import numpy as np\n",
    "\n",
    "# Criando a lista de dados\n",
    "dados = [-0.08, -0.27, 0.12, -0.03, 0.26, 0.40, 1.02]\n",
    "\n",
    "# Criando uma Série Pandas a partir dos dados fornecidos\n",
    "AnomaliaTermicaSemIndex = pd.Series(data=dados)\n",
    "\n",
    "# Exibindo a série criada\n",
    "AnomaliaTermicaSemIndex\n"
   ]
  },
  {
   "cell_type": "markdown",
   "metadata": {
    "id": "I_WzxjVQmU5f"
   },
   "source": [
    "#### 2) Coloque os anos nos índices conforme a tabela."
   ]
  },
  {
   "cell_type": "code",
   "execution_count": 2,
   "metadata": {
    "id": "nW63uTlSmU5f"
   },
   "outputs": [],
   "source": [
    "# Lista de anos correspondente às anomalias térmicas\n",
    "anos = [1900, 1920, 1940, 1960, 1980, 2000, 2020]\n",
    "\n",
    "# Criando a Série Pandas com os anos como índice\n",
    "AnomaliaTermicaComIndex = pd.Series(data=dados, index=anos)\n",
    "\n",
    "# Exibindo a série com os anos como índices\n",
    "AnomaliaTermicaComIndex\n",
    "\n"
   ]
  },
  {
   "cell_type": "markdown",
   "metadata": {
    "id": "LqwZyb6BmU5g"
   },
   "source": [
    "#### 3) A partir do dicionário abaixo, crie uma séries do Pandas:"
   ]
  },
  {
   "cell_type": "code",
   "execution_count": 5,
   "metadata": {
    "colab": {
     "base_uri": "https://localhost:8080/"
    },
    "id": "NiXjZhDWmU5g",
    "outputId": "fde22a31-3bab-4150-c18f-89dcd10c305a"
   },
   "outputs": [
    {
     "name": "stdout",
     "output_type": "stream",
     "text": [
      "1900   -0.08\n",
      "1920   -0.27\n",
      "1940    0.12\n",
      "1960   -0.03\n",
      "1980    0.26\n",
      "2000    0.40\n",
      "2020    1.02\n",
      "dtype: float64\n"
     ]
    }
   ],
   "source": [
    "dic_temperaturas = {1900: -.08, 1920: -.27, 1940: .12, 1960: -.03, 1980: .26, 2000: .40, 2020: 1.02}\n",
    "\n",
    "# seu código aqui\n",
    "\n",
    "# Dicionário com os dados de temperaturas\n",
    "dic_temperaturas = {1900: -0.08, 1920: -0.27, 1940: 0.12, 1960: -0.03, 1980: 0.26, 2000: 0.40, 2020: 1.02 }\n",
    "\n",
    "# Cria uma série do Pandas a partir do dicionário\n",
    "serie_temperaturas = pd.Series(dic_temperaturas)\n",
    "\n",
    "# Exibe a série para verificar\n",
    "print(serie_temperaturas)"
   ]
  },
  {
   "cell_type": "markdown",
   "metadata": {
    "id": "g9981yqXmU5g"
   },
   "source": [
    "#### 4) Transforme o ndarray abaixo em um dataframe.\n",
    "O numpy é capaz de gerar arrays n-dimensionais com números pseudo-aleatórios de acordo com uma variedade de distribuições, como no exemplo abaixo. Transforme esse nd-array em um DataFrame."
   ]
  },
  {
   "cell_type": "code",
   "execution_count": 6,
   "metadata": {
    "colab": {
     "base_uri": "https://localhost:8080/"
    },
    "id": "Cv7t02GOmU5g",
    "outputId": "e882fea0-c700-4579-bb61-f634b1790987"
   },
   "outputs": [
    {
     "name": "stdout",
     "output_type": "stream",
     "text": [
      "       Coluna1     Coluna2     Coluna3\n",
      "0   106.965525   93.392094   93.675097\n",
      "1   100.490371   96.030033  101.531149\n",
      "2    96.797601  108.834429  108.449379\n",
      "3    82.359448   93.994768   84.345768\n",
      "4    95.929075   93.790759  115.809788\n",
      "5    83.112690   90.540915   87.327103\n",
      "6   104.833285  100.516999  114.485854\n",
      "7   106.611088  113.420064  116.823099\n",
      "8   106.344620  104.848957  107.152967\n",
      "9    97.966432   85.374432  100.382974\n",
      "10  104.419499   95.761725   93.238184\n",
      "11  104.834060   95.588150  123.696643\n",
      "12  104.545021   94.407044   92.569211\n",
      "13  108.017270  100.824632   92.298199\n",
      "14   95.438754  103.610190  115.853537\n",
      "15   98.424511  101.197668   90.299001\n",
      "16   76.547351  101.786297  107.476981\n",
      "17  101.458710   95.494770  110.255699\n",
      "18   87.130648  103.071600  102.608080\n",
      "19   97.716870   90.942076   85.697953\n"
     ]
    }
   ],
   "source": [
    "arr = np.random.normal(100, 10, (20,3))\n",
    "\n",
    "# seu código aqui\n",
    "\n",
    "df = pd.DataFrame(arr, columns=['Coluna1', 'Coluna2', 'Coluna3'])\n",
    "print(df)"
   ]
  },
  {
   "cell_type": "markdown",
   "metadata": {
    "id": "I-N8HhiQmU5h"
   },
   "source": [
    "#### 5) Nomeie os índices das linhas com inteiros de 1 a 20, e as colunas com os nomes \"x1\", \"x2\", e \"x3\" respectivamente."
   ]
  },
  {
   "cell_type": "code",
   "execution_count": 3,
   "metadata": {
    "colab": {
     "base_uri": "https://localhost:8080/"
    },
    "id": "LS75DE7OmU5h",
    "outputId": "174acb9a-f9c8-4cd1-ed2a-d401694175a7"
   },
   "outputs": [
    {
     "name": "stdout",
     "output_type": "stream",
     "text": [
      "            x1          x2          x3\n",
      "1   100.030029   78.228393   87.018969\n",
      "2   125.853018   99.446261  103.323363\n",
      "3   113.035340  108.516750  103.713560\n",
      "4    97.239172  102.979140  100.971003\n",
      "5   112.835722  116.503534  104.697874\n",
      "6    87.473345   91.904547  106.041350\n",
      "7    96.819381  105.130456  107.536402\n",
      "8   104.870836   96.977478   92.344443\n",
      "9   104.947631  117.364514   93.149672\n",
      "10   85.861625   94.891505   96.175696\n",
      "11   99.505994   98.916410   96.157979\n",
      "12  108.515524  105.040492   90.228169\n",
      "13  101.215113  105.293220  125.462160\n",
      "14  120.069997   97.597534  107.156538\n",
      "15   79.210131  100.992851   90.748594\n",
      "16  120.906435   98.550262   94.099134\n",
      "17   95.324606  101.593249   92.732799\n",
      "18   97.718186  101.557263   97.820461\n",
      "19   92.077703   95.615174  102.273915\n",
      "20  119.348681  105.628478  105.500772\n"
     ]
    }
   ],
   "source": [
    "\n",
    "# Gerando um array 2D (20 linhas, 3 colunas) com distribuição normal (média 100, desvio padrão 10)\n",
    "arr = np.random.normal(100, 10, (20, 3))\n",
    "\n",
    "# Transformando o ndarray em um DataFrame e renomeando os índices e as colunas\n",
    "df = pd.DataFrame(arr, columns=['x1', 'x2', 'x3'], index=range(1, 21))\n",
    "\n",
    "# Exibindo o DataFrame\n",
    "print(df)"
   ]
  },
  {
   "cell_type": "markdown",
   "metadata": {
    "id": "gRYtyTw8mU5h"
   },
   "source": [
    "#### 6) No DataFrame do exercício 5, crie uma nova coluna como sendo a média das três colunas, e dê a ela o nome de \"media\" (não recomendo colocar acentos em nomes de variáveis)."
   ]
  },
  {
   "cell_type": "code",
   "execution_count": 16,
   "metadata": {
    "colab": {
     "base_uri": "https://localhost:8080/"
    },
    "id": "mJw2tnThmU5h",
    "outputId": "6593cd2d-5795-440f-fd44-f40d66497307"
   },
   "outputs": [
    {
     "name": "stdout",
     "output_type": "stream",
     "text": [
      "            x1          x2          x3       media\n",
      "1   112.138855  115.057529   94.933253  107.376545\n",
      "2   100.921204   96.026978   93.420424   96.789535\n",
      "3    83.212729   98.703417   92.060651   91.325599\n",
      "4   107.105850  104.121880   99.366290  103.531340\n",
      "5    98.185290  107.665598   82.523480   96.124790\n",
      "6   109.258335  105.272175   92.554942  102.361818\n",
      "7    92.584831  111.049393  101.474161  101.702795\n",
      "8   114.877834   91.689072  104.111559  103.559488\n",
      "9    95.274178  106.243021   89.521645   97.012948\n",
      "10  115.784246   94.485872   89.057919   99.776012\n",
      "11  103.459576   95.404263   88.622932   95.828924\n",
      "12  107.974639  104.685237  105.915794  106.191890\n",
      "13  109.607341   94.331919  121.193691  108.377650\n",
      "14   99.543296   88.497798  110.428619   99.489905\n",
      "15  104.743550   96.680187  106.107398  102.510378\n",
      "16  112.637082  111.760589   99.007539  107.801737\n",
      "17  100.896572   83.121525   98.614056   94.210718\n",
      "18  110.988536   90.622739   90.657271   97.422849\n",
      "19  107.991619  105.196480  111.265178  108.151092\n",
      "20  102.068680   93.497093  100.207287   98.591020\n"
     ]
    }
   ],
   "source": [
    "# seu código aqui\n",
    "# Calcular a média das três colunas existentes e criar uma nova coluna 'media'\n",
    "# A nova coluna 'media' é a média de 'x1', 'x2' e 'x3'\n",
    "df['media'] = df[['x1', 'x2', 'x3']].mean(axis=1)\n",
    "\n",
    "# Exibir o DataFrame com a nova coluna\n",
    "print(df)"
   ]
  },
  {
   "cell_type": "markdown",
   "metadata": {
    "id": "UgRHNNsEmU5i"
   },
   "source": [
    "#### 7) No DataFrame do exercício 6, crie uma nova coluna chamada \"log_med\", contendo o logaritmo natural da média calculada no exercício 6 <br>"
   ]
  },
  {
   "cell_type": "code",
   "execution_count": 7,
   "metadata": {
    "colab": {
     "base_uri": "https://localhost:8080/"
    },
    "id": "xlWPIfujmU5i",
    "outputId": "d68e87c9-4cbe-46b8-93a3-fcc476bd2286"
   },
   "outputs": [
    {
     "ename": "KeyError",
     "evalue": "'media'",
     "output_type": "error",
     "traceback": [
      "\u001b[1;31m---------------------------------------------------------------------------\u001b[0m",
      "\u001b[1;31mKeyError\u001b[0m                                  Traceback (most recent call last)",
      "File \u001b[1;32m~\\anaconda3\\Lib\\site-packages\\pandas\\core\\indexes\\base.py:3791\u001b[0m, in \u001b[0;36mIndex.get_loc\u001b[1;34m(self, key)\u001b[0m\n\u001b[0;32m   3790\u001b[0m \u001b[38;5;28;01mtry\u001b[39;00m:\n\u001b[1;32m-> 3791\u001b[0m     \u001b[38;5;28;01mreturn\u001b[39;00m \u001b[38;5;28mself\u001b[39m\u001b[38;5;241m.\u001b[39m_engine\u001b[38;5;241m.\u001b[39mget_loc(casted_key)\n\u001b[0;32m   3792\u001b[0m \u001b[38;5;28;01mexcept\u001b[39;00m \u001b[38;5;167;01mKeyError\u001b[39;00m \u001b[38;5;28;01mas\u001b[39;00m err:\n",
      "File \u001b[1;32mindex.pyx:152\u001b[0m, in \u001b[0;36mpandas._libs.index.IndexEngine.get_loc\u001b[1;34m()\u001b[0m\n",
      "File \u001b[1;32mindex.pyx:181\u001b[0m, in \u001b[0;36mpandas._libs.index.IndexEngine.get_loc\u001b[1;34m()\u001b[0m\n",
      "File \u001b[1;32mpandas\\_libs\\hashtable_class_helper.pxi:7080\u001b[0m, in \u001b[0;36mpandas._libs.hashtable.PyObjectHashTable.get_item\u001b[1;34m()\u001b[0m\n",
      "File \u001b[1;32mpandas\\_libs\\hashtable_class_helper.pxi:7088\u001b[0m, in \u001b[0;36mpandas._libs.hashtable.PyObjectHashTable.get_item\u001b[1;34m()\u001b[0m\n",
      "\u001b[1;31mKeyError\u001b[0m: 'media'",
      "\nThe above exception was the direct cause of the following exception:\n",
      "\u001b[1;31mKeyError\u001b[0m                                  Traceback (most recent call last)",
      "Cell \u001b[1;32mIn[7], line 3\u001b[0m\n\u001b[0;32m      1\u001b[0m \u001b[38;5;66;03m# seu código aqui\u001b[39;00m\n\u001b[0;32m      2\u001b[0m \u001b[38;5;66;03m# A função np.log() calcula o logaritmo natural da coluna 'media'\u001b[39;00m\n\u001b[1;32m----> 3\u001b[0m df[\u001b[38;5;124m'\u001b[39m\u001b[38;5;124mlog_med\u001b[39m\u001b[38;5;124m'\u001b[39m] \u001b[38;5;241m=\u001b[39m np\u001b[38;5;241m.\u001b[39mlog(df[\u001b[38;5;124m'\u001b[39m\u001b[38;5;124mmedia\u001b[39m\u001b[38;5;124m'\u001b[39m])\n\u001b[0;32m      4\u001b[0m \u001b[38;5;28mprint\u001b[39m(df)\n",
      "File \u001b[1;32m~\\anaconda3\\Lib\\site-packages\\pandas\\core\\frame.py:3893\u001b[0m, in \u001b[0;36mDataFrame.__getitem__\u001b[1;34m(self, key)\u001b[0m\n\u001b[0;32m   3891\u001b[0m \u001b[38;5;28;01mif\u001b[39;00m \u001b[38;5;28mself\u001b[39m\u001b[38;5;241m.\u001b[39mcolumns\u001b[38;5;241m.\u001b[39mnlevels \u001b[38;5;241m>\u001b[39m \u001b[38;5;241m1\u001b[39m:\n\u001b[0;32m   3892\u001b[0m     \u001b[38;5;28;01mreturn\u001b[39;00m \u001b[38;5;28mself\u001b[39m\u001b[38;5;241m.\u001b[39m_getitem_multilevel(key)\n\u001b[1;32m-> 3893\u001b[0m indexer \u001b[38;5;241m=\u001b[39m \u001b[38;5;28mself\u001b[39m\u001b[38;5;241m.\u001b[39mcolumns\u001b[38;5;241m.\u001b[39mget_loc(key)\n\u001b[0;32m   3894\u001b[0m \u001b[38;5;28;01mif\u001b[39;00m is_integer(indexer):\n\u001b[0;32m   3895\u001b[0m     indexer \u001b[38;5;241m=\u001b[39m [indexer]\n",
      "File \u001b[1;32m~\\anaconda3\\Lib\\site-packages\\pandas\\core\\indexes\\base.py:3798\u001b[0m, in \u001b[0;36mIndex.get_loc\u001b[1;34m(self, key)\u001b[0m\n\u001b[0;32m   3793\u001b[0m     \u001b[38;5;28;01mif\u001b[39;00m \u001b[38;5;28misinstance\u001b[39m(casted_key, \u001b[38;5;28mslice\u001b[39m) \u001b[38;5;129;01mor\u001b[39;00m (\n\u001b[0;32m   3794\u001b[0m         \u001b[38;5;28misinstance\u001b[39m(casted_key, abc\u001b[38;5;241m.\u001b[39mIterable)\n\u001b[0;32m   3795\u001b[0m         \u001b[38;5;129;01mand\u001b[39;00m \u001b[38;5;28many\u001b[39m(\u001b[38;5;28misinstance\u001b[39m(x, \u001b[38;5;28mslice\u001b[39m) \u001b[38;5;28;01mfor\u001b[39;00m x \u001b[38;5;129;01min\u001b[39;00m casted_key)\n\u001b[0;32m   3796\u001b[0m     ):\n\u001b[0;32m   3797\u001b[0m         \u001b[38;5;28;01mraise\u001b[39;00m InvalidIndexError(key)\n\u001b[1;32m-> 3798\u001b[0m     \u001b[38;5;28;01mraise\u001b[39;00m \u001b[38;5;167;01mKeyError\u001b[39;00m(key) \u001b[38;5;28;01mfrom\u001b[39;00m \u001b[38;5;21;01merr\u001b[39;00m\n\u001b[0;32m   3799\u001b[0m \u001b[38;5;28;01mexcept\u001b[39;00m \u001b[38;5;167;01mTypeError\u001b[39;00m:\n\u001b[0;32m   3800\u001b[0m     \u001b[38;5;66;03m# If we have a listlike key, _check_indexing_error will raise\u001b[39;00m\n\u001b[0;32m   3801\u001b[0m     \u001b[38;5;66;03m#  InvalidIndexError. Otherwise we fall through and re-raise\u001b[39;00m\n\u001b[0;32m   3802\u001b[0m     \u001b[38;5;66;03m#  the TypeError.\u001b[39;00m\n\u001b[0;32m   3803\u001b[0m     \u001b[38;5;28mself\u001b[39m\u001b[38;5;241m.\u001b[39m_check_indexing_error(key)\n",
      "\u001b[1;31mKeyError\u001b[0m: 'media'"
     ]
    }
   ],
   "source": [
    "# seu código aqui\n",
    "# A função np.log() calcula o logaritmo natural da coluna 'media'\n",
    "df['log_med'] = np.log(df['media'])\n",
    "print(df)"
   ]
  },
  {
   "cell_type": "code",
   "execution_count": null,
   "metadata": {},
   "outputs": [],
   "source": []
  }
 ],
 "metadata": {
  "colab": {
   "provenance": []
  },
  "kernelspec": {
   "display_name": "Python 3 (ipykernel)",
   "language": "python",
   "name": "python3"
  },
  "language_info": {
   "codemirror_mode": {
    "name": "ipython",
    "version": 3
   },
   "file_extension": ".py",
   "mimetype": "text/x-python",
   "name": "python",
   "nbconvert_exporter": "python",
   "pygments_lexer": "ipython3",
   "version": "3.11.7"
  }
 },
 "nbformat": 4,
 "nbformat_minor": 4
}
