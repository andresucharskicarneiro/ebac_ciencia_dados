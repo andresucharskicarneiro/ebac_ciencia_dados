{
 "cells": [
  {
   "cell_type": "markdown",
   "metadata": {
    "id": "qamP8yO2mU5T"
   },
   "source": [
    "# Tarefa 01\n",
    "\n",
    "- Leia os enunciados com atenção\n",
    "- Saiba que pode haver mais de uma resposta correta\n",
    "- Insira novas células de código sempre que achar necessário\n",
    "- Em caso de dúvidas, procure os tutores\n",
    "- Divirta-se :)\n",
    "\n",
    "#### 1)  crie uma série do pandas a partir de uma lista com os dados abaixo:\n",
    "\n",
    "Em um estudo sobre alteração na tempreatura global, A NASA disponibiliza dados de diferenças de de temperatura média da superfície terrestre relativos às médias de temperatura entre 1951 e 1980. Os dados originais podem ser vistos no site da NASA/GISS, e estão dispostos a cada década na tabela abaixo.\n",
    "\n",
    "|ano|anomalia termica|\n",
    "|:-:|:----:|\n",
    "| 1900 | -0.08 |\n",
    "| 1920 | -0.27 |\n",
    "| 1940 | 0.12 |\n",
    "| 1960 | -0.03 |\n",
    "| 1980 | 0.26 |\n",
    "| 2000 | 0.40 |\n",
    "| 2020 | 1.02 |\n",
    "\n",
    "Crie uma séries do Pandas a partir de uma lista com esses dados."
   ]
  },
  {
   "cell_type": "code",
   "execution_count": 19,
   "metadata": {
    "id": "QqjokvGPmU5d"
   },
   "outputs": [],
   "source": [
    "import pandas as pd\n",
    "import numpy as np\n",
    "\n",
    "# Seu código aqui\n",
    "# Esta linha cria uma lista chamada 'dados' com uma série de valores numéricos.\n",
    "# Estes valores representam anomalias térmicas (desvios em relação à média) em um determinado contexto.\n",
    "dados = [-0.08, -0.27, 0.12, -0.03, 0.26, 0.40, 1.02]\n",
    "\n",
    "# Aqui, uma Série Pandas é criada a partir dos dados na lista 'dados'.\n",
    "# 'pd.Series' é a função usada para criar uma Série Pandas.\n",
    "# A função recebe a lista 'dados' como argumento para o parâmetro 'data'.\n",
    "# Como nenhum índice personalizado é especificado, a Série será indexada com números inteiros começando de zero.\n",
    "# A Série criada é armazenada na variável 'AnomaliaTermicaSemIndex'.\n",
    "AnomaliaTermicaSemIndex = pd.Series(data=dados)\n"
   ]
  },
  {
   "cell_type": "markdown",
   "metadata": {
    "id": "I_WzxjVQmU5f"
   },
   "source": [
    "#### 2) Coloque os anos nos índices conforme a tabela."
   ]
  },
  {
   "cell_type": "code",
   "execution_count": 4,
   "metadata": {
    "id": "nW63uTlSmU5f"
   },
   "outputs": [],
   "source": [
    "\n",
    "# Esta linha cria uma lista chamada 'indice' com valores inteiros representando anos específicos.\n",
    "indice=[1900, 1920, 1940, 1960, 1980, 2000, 2020]\n",
    "# Esta linha cria uma lista chamada 'dados' com uma série de valores numéricos.\n",
    "dados = [-0.08, -0.27, 0.12, -0.03, 0.26, 0.40, 1.02]\n",
    "AnomaliaTermicaSemIndex = pd.Series(data=dados, index=indice)\n",
    "AnomaliaTermicaSemIndex = pd.Series\n"
   ]
  },
  {
   "cell_type": "markdown",
   "metadata": {
    "id": "LqwZyb6BmU5g"
   },
   "source": [
    "#### 3) A partir do dicionário abaixo, crie uma séries do Pandas:"
   ]
  },
  {
   "cell_type": "code",
   "execution_count": 5,
   "metadata": {
    "colab": {
     "base_uri": "https://localhost:8080/"
    },
    "id": "NiXjZhDWmU5g",
    "outputId": "fde22a31-3bab-4150-c18f-89dcd10c305a"
   },
   "outputs": [
    {
     "name": "stdout",
     "output_type": "stream",
     "text": [
      "1900   -0.08\n",
      "1920   -0.27\n",
      "1940    0.12\n",
      "1960   -0.03\n",
      "1980    0.26\n",
      "2000    0.40\n",
      "2020    1.02\n",
      "dtype: float64\n"
     ]
    }
   ],
   "source": [
    "dic_temperaturas = {1900: -.08, 1920: -.27, 1940: .12, 1960: -.03, 1980: .26, 2000: .40, 2020: 1.02}\n",
    "\n",
    "# seu código aqui\n",
    "\n",
    "# Dicionário com os dados de temperaturas\n",
    "dic_temperaturas = {1900: -0.08, 1920: -0.27, 1940: 0.12, 1960: -0.03, 1980: 0.26, 2000: 0.40, 2020: 1.02 }\n",
    "\n",
    "# Cria uma série do Pandas a partir do dicionário\n",
    "serie_temperaturas = pd.Series(dic_temperaturas)\n",
    "\n",
    "# Exibe a série para verificar\n",
    "print(serie_temperaturas)"
   ]
  },
  {
   "cell_type": "markdown",
   "metadata": {
    "id": "g9981yqXmU5g"
   },
   "source": [
    "#### 4) Transforme o ndarray abaixo em um dataframe.\n",
    "O numpy é capaz de gerar arrays n-dimensionais com números pseudo-aleatórios de acordo com uma variedade de distribuições, como no exemplo abaixo. Transforme esse nd-array em um DataFrame."
   ]
  },
  {
   "cell_type": "code",
   "execution_count": 13,
   "metadata": {
    "colab": {
     "base_uri": "https://localhost:8080/"
    },
    "id": "Cv7t02GOmU5g",
    "outputId": "e882fea0-c700-4579-bb61-f634b1790987"
   },
   "outputs": [
    {
     "name": "stdout",
     "output_type": "stream",
     "text": [
      "       Coluna1     Coluna2     Coluna3\n",
      "0   112.138855  115.057529   94.933253\n",
      "1   100.921204   96.026978   93.420424\n",
      "2    83.212729   98.703417   92.060651\n",
      "3   107.105850  104.121880   99.366290\n",
      "4    98.185290  107.665598   82.523480\n",
      "5   109.258335  105.272175   92.554942\n",
      "6    92.584831  111.049393  101.474161\n",
      "7   114.877834   91.689072  104.111559\n",
      "8    95.274178  106.243021   89.521645\n",
      "9   115.784246   94.485872   89.057919\n",
      "10  103.459576   95.404263   88.622932\n",
      "11  107.974639  104.685237  105.915794\n",
      "12  109.607341   94.331919  121.193691\n",
      "13   99.543296   88.497798  110.428619\n",
      "14  104.743550   96.680187  106.107398\n",
      "15  112.637082  111.760589   99.007539\n",
      "16  100.896572   83.121525   98.614056\n",
      "17  110.988536   90.622739   90.657271\n",
      "18  107.991619  105.196480  111.265178\n",
      "19  102.068680   93.497093  100.207287\n"
     ]
    }
   ],
   "source": [
    "arr = np.random.normal(100, 10, (20,3))\n",
    "\n",
    "# seu código aqui\n",
    "\n",
    "df = pd.DataFrame(arr, columns=['Coluna1', 'Coluna2', 'Coluna3'])\n",
    "print(df)"
   ]
  },
  {
   "cell_type": "markdown",
   "metadata": {
    "id": "I-N8HhiQmU5h"
   },
   "source": [
    "#### 5) Nomeie os índices das linhas com inteiros de 1 a 20, e as colunas com os nomes \"x1\", \"x2\", e \"x3\" respectivamente."
   ]
  },
  {
   "cell_type": "code",
   "execution_count": 15,
   "metadata": {
    "colab": {
     "base_uri": "https://localhost:8080/"
    },
    "id": "LS75DE7OmU5h",
    "outputId": "174acb9a-f9c8-4cd1-ed2a-d401694175a7"
   },
   "outputs": [
    {
     "name": "stdout",
     "output_type": "stream",
     "text": [
      "            x1          x2          x3\n",
      "1   112.138855  115.057529   94.933253\n",
      "2   100.921204   96.026978   93.420424\n",
      "3    83.212729   98.703417   92.060651\n",
      "4   107.105850  104.121880   99.366290\n",
      "5    98.185290  107.665598   82.523480\n",
      "6   109.258335  105.272175   92.554942\n",
      "7    92.584831  111.049393  101.474161\n",
      "8   114.877834   91.689072  104.111559\n",
      "9    95.274178  106.243021   89.521645\n",
      "10  115.784246   94.485872   89.057919\n",
      "11  103.459576   95.404263   88.622932\n",
      "12  107.974639  104.685237  105.915794\n",
      "13  109.607341   94.331919  121.193691\n",
      "14   99.543296   88.497798  110.428619\n",
      "15  104.743550   96.680187  106.107398\n",
      "16  112.637082  111.760589   99.007539\n",
      "17  100.896572   83.121525   98.614056\n",
      "18  110.988536   90.622739   90.657271\n",
      "19  107.991619  105.196480  111.265178\n",
      "20  102.068680   93.497093  100.207287\n"
     ]
    }
   ],
   "source": [
    "#seu código aqui\n",
    "\n",
    "# Nomeando os índices das linhas com inteiros de 1 a 20 e alterando para 1 a 21 para o index\n",
    "df = pd.DataFrame(arr, columns=['x1', 'x2', 'x3'], index=range(1, 21))\n",
    "print(df)"
   ]
  },
  {
   "cell_type": "markdown",
   "metadata": {
    "id": "gRYtyTw8mU5h"
   },
   "source": [
    "#### 6) No DataFrame do exercício 5, crie uma nova coluna como sendo a média das três colunas, e dê a ela o nome de \"media\" (não recomendo colocar acentos em nomes de variáveis)."
   ]
  },
  {
   "cell_type": "code",
   "execution_count": 16,
   "metadata": {
    "colab": {
     "base_uri": "https://localhost:8080/"
    },
    "id": "mJw2tnThmU5h",
    "outputId": "6593cd2d-5795-440f-fd44-f40d66497307"
   },
   "outputs": [
    {
     "name": "stdout",
     "output_type": "stream",
     "text": [
      "            x1          x2          x3       media\n",
      "1   112.138855  115.057529   94.933253  107.376545\n",
      "2   100.921204   96.026978   93.420424   96.789535\n",
      "3    83.212729   98.703417   92.060651   91.325599\n",
      "4   107.105850  104.121880   99.366290  103.531340\n",
      "5    98.185290  107.665598   82.523480   96.124790\n",
      "6   109.258335  105.272175   92.554942  102.361818\n",
      "7    92.584831  111.049393  101.474161  101.702795\n",
      "8   114.877834   91.689072  104.111559  103.559488\n",
      "9    95.274178  106.243021   89.521645   97.012948\n",
      "10  115.784246   94.485872   89.057919   99.776012\n",
      "11  103.459576   95.404263   88.622932   95.828924\n",
      "12  107.974639  104.685237  105.915794  106.191890\n",
      "13  109.607341   94.331919  121.193691  108.377650\n",
      "14   99.543296   88.497798  110.428619   99.489905\n",
      "15  104.743550   96.680187  106.107398  102.510378\n",
      "16  112.637082  111.760589   99.007539  107.801737\n",
      "17  100.896572   83.121525   98.614056   94.210718\n",
      "18  110.988536   90.622739   90.657271   97.422849\n",
      "19  107.991619  105.196480  111.265178  108.151092\n",
      "20  102.068680   93.497093  100.207287   98.591020\n"
     ]
    }
   ],
   "source": [
    "# seu código aqui\n",
    "# Calcular a média das três colunas existentes e criar uma nova coluna 'media'\n",
    "# A nova coluna 'media' é a média de 'x1', 'x2' e 'x3'\n",
    "df['media'] = df[['x1', 'x2', 'x3']].mean(axis=1)\n",
    "\n",
    "# Exibir o DataFrame com a nova coluna\n",
    "print(df)"
   ]
  },
  {
   "cell_type": "markdown",
   "metadata": {
    "id": "UgRHNNsEmU5i"
   },
   "source": [
    "#### 7) No DataFrame do exercício 6, crie uma nova coluna chamada \"log_med\", contendo o logaritmo natural da média calculada no exercício 6 <br>"
   ]
  },
  {
   "cell_type": "code",
   "execution_count": 18,
   "metadata": {
    "colab": {
     "base_uri": "https://localhost:8080/"
    },
    "id": "xlWPIfujmU5i",
    "outputId": "d68e87c9-4cbe-46b8-93a3-fcc476bd2286"
   },
   "outputs": [
    {
     "name": "stdout",
     "output_type": "stream",
     "text": [
      "            x1          x2          x3       media   log_med\n",
      "1   112.138855  115.057529   94.933253  107.376545  4.676342\n",
      "2   100.921204   96.026978   93.420424   96.789535  4.572539\n",
      "3    83.212729   98.703417   92.060651   91.325599  4.514431\n",
      "4   107.105850  104.121880   99.366290  103.531340  4.639874\n",
      "5    98.185290  107.665598   82.523480   96.124790  4.565647\n",
      "6   109.258335  105.272175   92.554942  102.361818  4.628514\n",
      "7    92.584831  111.049393  101.474161  101.702795  4.622055\n",
      "8   114.877834   91.689072  104.111559  103.559488  4.640146\n",
      "9    95.274178  106.243021   89.521645   97.012948  4.574844\n",
      "10  115.784246   94.485872   89.057919   99.776012  4.602928\n",
      "11  103.459576   95.404263   88.622932   95.828924  4.562565\n",
      "12  107.974639  104.685237  105.915794  106.191890  4.665248\n",
      "13  109.607341   94.331919  121.193691  108.377650  4.685622\n",
      "14   99.543296   88.497798  110.428619   99.489905  4.600056\n",
      "15  104.743550   96.680187  106.107398  102.510378  4.629964\n",
      "16  112.637082  111.760589   99.007539  107.801737  4.680294\n",
      "17  100.896572   83.121525   98.614056   94.210718  4.545534\n",
      "18  110.988536   90.622739   90.657271   97.422849  4.579061\n",
      "19  107.991619  105.196480  111.265178  108.151092  4.683529\n",
      "20  102.068680   93.497093  100.207287   98.591020  4.590980\n"
     ]
    }
   ],
   "source": [
    "# seu código aqui\n",
    "# A função np.log() calcula o logaritmo natural da coluna 'media'\n",
    "df['log_med'] = np.log(df['media'])\n",
    "print(df)"
   ]
  }
 ],
 "metadata": {
  "colab": {
   "provenance": []
  },
  "kernelspec": {
   "display_name": "Python 3 (ipykernel)",
   "language": "python",
   "name": "python3"
  },
  "language_info": {
   "codemirror_mode": {
    "name": "ipython",
    "version": 3
   },
   "file_extension": ".py",
   "mimetype": "text/x-python",
   "name": "python",
   "nbconvert_exporter": "python",
   "pygments_lexer": "ipython3",
   "version": "3.11.7"
  }
 },
 "nbformat": 4,
 "nbformat_minor": 4
}
