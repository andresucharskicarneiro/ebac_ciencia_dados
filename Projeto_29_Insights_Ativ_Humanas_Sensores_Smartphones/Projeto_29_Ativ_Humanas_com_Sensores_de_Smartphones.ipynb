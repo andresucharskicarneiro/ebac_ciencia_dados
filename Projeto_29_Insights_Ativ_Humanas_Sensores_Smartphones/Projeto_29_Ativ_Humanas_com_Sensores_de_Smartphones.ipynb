{
  "cells": [
    {
      "cell_type": "markdown",
      "metadata": {
        "tags": [],
        "id": "k3T6u7YFg5Lp"
      },
      "source": [
        "# Árvores II - Tarefa I"
      ]
    },
    {
      "cell_type": "markdown",
      "metadata": {
        "id": "mljcHEI_g5Mc"
      },
      "source": [
        "\n",
        "Neste exercício vamos trabalhar com a base de dados de identificação de atividade humana com smartphones. Smartphones possuem acelerômetro e giroscópio, que registram dados de aceleração e giro nos eixos X, Y e Z, com frequencia de 50 Hz (ou seja, 50 registros por segundo). Os dados foram agrupados a medidas de 0.3 Hz, calculando-se variáveis derivadas como aceleração mínima, máxima, média etc por eixo no período agrupado de tempo, resultando em 561 variáveis que podem ser lidas nas bases disponíveis.\n",
        "\n",
        "A base é oriunda de um experimento, em que os indivíduos realizavam uma de seis atividades corriqueiras:\n",
        "- andando\n",
        "- subindo escada\n",
        "- descendo escada\n",
        "- parado\n",
        "- sentado\n",
        "- deitado\n",
        "\n",
        "O objetivo é classificar a atividade humana com base nos dados do acelerômetro e giroscópio do celular."
      ]
    },
    {
      "cell_type": "markdown",
      "metadata": {
        "id": "aB-gdzbdg5Mh"
      },
      "source": [
        "### 1. Carregar a base\n",
        "\n",
        "Sua primeira atividade é carregar a base.\n",
        "\n",
        "Ela está disponível neste link:\n",
        "https://archive.ics.uci.edu/ml/datasets/human+activity+recognition+using+smartphones\n",
        "\n",
        "dados https://archive.ics.uci.edu/ml/machine-learning-databases/00240/  \n",
        "dataset.names https://archive.ics.uci.edu/ml/machine-learning-databases/00240/UCI%20HAR%20Dataset.names  \n",
        "UCI HAR Dataset.zip https://archive.ics.uci.edu/ml/machine-learning-databases/00240/UCI%20HAR%20Dataset.zip\n",
        "\n",
        "Você vai encontrar os seguintes arquivos:\n",
        "\n",
        "- **features.txt:** contém a lista com os nomes das variáveis\n",
        "- **features_info.txt:** contém a descrição das variáveis\n",
        "- **README.txt:** contém uma descrição do estudo e das bases\n",
        "- **activity_labels:** contém o código da atividade (inteiro entre 1 e 6) e a descrição\n",
        "- **subject_train.txt:** uma lista indicando que registro pertence a que indivíduo na base de treino\n",
        "- **X_train.txt:** as *features* (ou variáveis explicativas) da base de testes. Cada linha representa um registro das informações de um indivíduo em um intervalo de tempo de aproximadamente 1/0.3 segundo. As medidas estão em ordem temporal dentro do estudo, e o indivíduo que originou a medida está identificado na base subject_train.txt.\n",
        "- **y_train.txt:** Possui o mesmo número de linhas que X_test. Contém um número de 1 a 6 indicando a atividade que estava sendo realizada por aquele registro na base de treino.\n",
        "- **subject_test.txt:** uma lista indicando que registro pertence a que indivíduo na base de teste\n",
        "- **X_test.txt:** as *features* (ou variáveis explicativas) da base de testes. Cada linha representa um registro das informações de um indivíduo em um intervalo de tempo de aproximadamente 1/0.3 segundo. As medidas estão em ordem temporal dentro do estudo, e o indivíduo que originou a medida está identificado na base subject_test.txt.\n",
        "- **y_test.txt:** Possui o mesmo número de linhas que X_train. Contém um número de 1 a 6 indicando a atividade que estava sendo realizada por aquele registro na base de teste.\n",
        "\n",
        "Carregue as bases:\n",
        "\n",
        "1. Faça o download dos arquivos.\n",
        "2. Carregue a base ```features.txt``` em uma *Series* (por exemplo usando o comando ```pd.read_csv()```.\n",
        "3. Carregue a base subject_train.txt em uma *Series*\n",
        "4. Carregue a base X_train.txt\n",
        "    1. Faça com que as colunas deste *dataframe* tenham os nomes indicados em ```features.txt```\n",
        "    2. Sem alterar a ordem dos *dataframes*, coloque o indicador do indivíduo lido em ```subject_train.txt``` como uma variável a mais neste *dataframe***\n",
        "    3. Faça com que este *dataframe* tenha um índice duplo, composto pela ordem dos dados e pelo identificador do indivíduo\n",
        "5. Com a mesma lógica, carregue a base X_test\n",
        "    1. Certifique-se de que tenha os nomes lidos em ```features.txt```\n",
        "    2. Coloque o identificador do sujeito lido em ```subject_test.txt```\n",
        "    3. Defina um índice duplo composto pela ordem do registro e o identificador do registro\n",
        "6. Salve as bases em arquivos CSV para facilitar a leitura deles na terefa 2 deste módulo\n",
        "7. Considere que esta base é maior que a da aula, tanto em linhas quanto em colunas. Selecione apenas as três primeiras colunas da base ('tBodyAcc-mean()-X', 'tBodyAcc-mean()-Y' e 'tBodyAcc-mean()-Z'), para efeitos desse exercício.\n",
        "\n",
        "**OBS:** As bases já estão divididas em treino e teste, de modo que não vamos precisar da função ```train_test_split```."
      ]
    },
    {
      "cell_type": "code",
      "execution_count": 2,
      "metadata": {
        "id": "WoHjBSB0g5Mj"
      },
      "outputs": [],
      "source": [
        "import pandas as pd\n",
        "from sklearn.tree import DecisionTreeClassifier\n",
        "import numpy as np\n",
        "import matplotlib.pyplot as plt\n",
        "\n"
      ]
    },
    {
      "cell_type": "code",
      "execution_count": 4,
      "metadata": {
        "tags": [],
        "id": "HF_agkcRg5Ml",
        "outputId": "fde0dc58-4f5f-49c5-f05f-829b7f8c74e3",
        "colab": {
          "base_uri": "https://localhost:8080/"
        }
      },
      "outputs": [
        {
          "output_type": "stream",
          "name": "stdout",
          "text": [
            "['.config', '__MACOSX', 'UCI HAR Dataset', 'UCI HAR Dataset.zip', 'sample_data']\n"
          ]
        }
      ],
      "source": [
        "import zipfile\n",
        "import os\n",
        "\n",
        "# Defina o nome do arquivo ZIP (substitua se necessário)\n",
        "zip_path = 'UCI HAR Dataset.zip'\n",
        "\n",
        "# Extraia o conteúdo\n",
        "with zipfile.ZipFile(zip_path, 'r') as zip_ref:\n",
        "    zip_ref.extractall('/content')\n",
        "\n",
        "# Verifique se a pasta foi extraída corretamente\n",
        "print(os.listdir('/content'))\n"
      ]
    },
    {
      "cell_type": "code",
      "execution_count": 5,
      "metadata": {
        "id": "Qpa9NP6yg5Mm",
        "colab": {
          "base_uri": "https://localhost:8080/"
        },
        "outputId": "23fed3df-f148-4bf9-9c47-d39b9faee09b"
      },
      "outputs": [
        {
          "output_type": "stream",
          "name": "stdout",
          "text": [
            "Bases carregadas e salvas com sucesso!\n"
          ]
        }
      ],
      "source": [
        "# 1. Definindo o caminho para os arquivos\n",
        "path = 'UCI HAR Dataset/'\n",
        "\n",
        "# 2. Carregar as features e tratar nomes duplicados\n",
        "features = pd.read_csv(path + 'features.txt', sep='\\s+', header=None, names=['index', 'feature'])\n",
        "\n",
        "# Adicionar sufixo incremental para features duplicadas\n",
        "features['feature'] = features.groupby('feature').cumcount().astype(str) + '_' + features['feature']\n",
        "feature_names = features['feature'].tolist()\n",
        "\n",
        "# 3. Carregar subject_train.txt e subject_test.txt (indicadores dos indivíduos)\n",
        "subject_train = pd.read_csv(path + 'train/subject_train.txt', header=None, names=['subject'])\n",
        "subject_test = pd.read_csv(path + 'test/subject_test.txt', header=None, names=['subject'])\n",
        "\n",
        "# 4. Carregar X_train e X_test (variáveis explicativas)\n",
        "X_train = pd.read_csv(path + 'train/X_train.txt', sep='\\s+', header=None, names=feature_names)\n",
        "X_test = pd.read_csv(path + 'test/X_test.txt', sep='\\s+', header=None, names=feature_names)\n",
        "\n",
        "# 5. Carregar y_train e y_test (atividades)\n",
        "y_train = pd.read_csv(path + 'train/y_train.txt', header=None, names=['activity'])\n",
        "y_test = pd.read_csv(path + 'test/y_test.txt', header=None, names=['activity'])\n",
        "\n",
        "# 6. Adicionar o identificador do indivíduo ao DataFrame de treino e teste\n",
        "X_train['subject'] = subject_train\n",
        "X_test['subject'] = subject_test\n",
        "\n",
        "# 7. Definir índice duplo (ordem dos dados + identificador do sujeito)\n",
        "X_train.set_index([X_train.index, 'subject'], inplace=True)\n",
        "X_test.set_index([X_test.index, 'subject'], inplace=True)\n",
        "\n",
        "# 8. Selecionar as três primeiras colunas relevantes para o exercício\n",
        "selected_features = ['0_tBodyAcc-mean()-X', '0_tBodyAcc-mean()-Y', '0_tBodyAcc-mean()-Z']\n",
        "X_train_selected = X_train[selected_features]\n",
        "X_test_selected = X_test[selected_features]\n",
        "\n",
        "# 9. Salvar as bases selecionadas em CSV\n",
        "X_train_selected.to_csv('X_train_selected.csv', index=True)\n",
        "X_test_selected.to_csv('X_test_selected.csv', index=True)\n",
        "\n",
        "print(\"Bases carregadas e salvas com sucesso!\")\n",
        "\n",
        "\n"
      ]
    },
    {
      "cell_type": "markdown",
      "metadata": {
        "id": "_eVf-YQLg5Mn"
      },
      "source": [
        "### 2. Ajustar uma árvore de decisão\n",
        "\n",
        "- 2.1 ajuste uma árvore de decisão com número mínimo de observações por folha = 20. Certifique-se de que você esteja utilizando apenas as 3 variáveis indicadas no exercício anterior.\n",
        "- 2.2 Calcule os ccp_alphas. Como feito em aula, certifique-se de que todos os valores são positivos, e selecione apenas valores únicos.\n",
        "- 2.3 Considere que vamos fazer uma árvore para cada valor de ```ccp_alpha```. Para ter um pouco mais de velocidade, crie uma coleção de dados com os ```ccp_alphas```, considerando apenas 1 a cada 5 valores. Dica: utilize o slicing do tipo ```array[::5]``` para isto. Caso se sinta seguro, fique à vontade para utilizar mais valores de ```ccp_alpha```."
      ]
    },
    {
      "cell_type": "code",
      "source": [
        "# 1. Importar pacotes necessários\n",
        "\n",
        "import pandas as pd\n",
        "import os\n",
        "from sklearn.tree import DecisionTreeClassifier\n",
        "from sklearn.model_selection import train_test_split\n",
        "from sklearn.tree import plot_tree\n",
        "import matplotlib.pyplot as plt"
      ],
      "metadata": {
        "id": "7f4kK_9vpxAi"
      },
      "execution_count": 6,
      "outputs": []
    },
    {
      "cell_type": "code",
      "source": [
        "# 2. Carregar os dados das 3 variáveis selecionadas\n",
        "\n",
        "import os\n",
        "import pandas as pd\n",
        "\n",
        "# Função para verificar se o arquivo existe e exibir uma mensagem adequada\n",
        "def check_file_exists(filepath):\n",
        "    if not os.path.exists(filepath):\n",
        "        raise FileNotFoundError(f\"O arquivo {filepath} não foi encontrado.\")\n",
        "\n",
        "# 2.1 Verificar e carregar os dados das 3 variáveis selecionadas\n",
        "check_file_exists('X_train_selected.csv')\n",
        "check_file_exists('X_test_selected.csv')\n",
        "\n",
        "X_train = pd.read_csv('X_train_selected.csv', index_col=[0, 1])\n",
        "X_test = pd.read_csv('X_test_selected.csv', index_col=[0, 1])\n",
        "\n",
        "# 2.2 Verificar e carregar os rótulos das atividades\n",
        "check_file_exists('UCI HAR Dataset/train/y_train.txt')\n",
        "check_file_exists('UCI HAR Dataset/test/y_test.txt')\n",
        "\n",
        "y_train = pd.read_csv('UCI HAR Dataset/train/y_train.txt', header=None, names=['activity'])\n",
        "y_test = pd.read_csv('UCI HAR Dataset/test/y_test.txt', header=None, names=['activity'])\n",
        "\n",
        "# 2.3 Conferir as colunas disponíveis nos dados carregados\n",
        "print(\"Colunas disponíveis em X_train:\", X_train.columns.tolist())\n",
        "print(\"Colunas disponíveis em X_test:\", X_test.columns.tolist())\n",
        "\n",
        "# 2.4 Garantir que estamos usando apenas as três variáveis indicadas\n",
        "selected_features = ['0_tBodyAcc-mean()-X', '0_tBodyAcc-mean()-Y', '0_tBodyAcc-mean()-Z']\n",
        "\n",
        "# 2.5 Conferir se as colunas selecionadas existem nos dados carregados\n",
        "missing_columns_train = set(selected_features) - set(X_train.columns)\n",
        "missing_columns_test = set(selected_features) - set(X_test.columns)\n",
        "\n",
        "# Verificar se alguma coluna está faltando e lançar um erro, se necessário\n",
        "if missing_columns_train or missing_columns_test:\n",
        "    raise ValueError(\n",
        "        f\"As colunas selecionadas estão ausentes nos dados.\\n\"\n",
        "        f\"Treino ausentes: {missing_columns_train}\\n\"\n",
        "        f\"Teste ausentes: {missing_columns_test}\"\n",
        "    )\n",
        "\n",
        "# Filtrar as colunas selecionadas nos conjuntos de dados\n",
        "X_train = X_train[selected_features]\n",
        "X_test = X_test[selected_features]\n",
        "\n",
        "print(\"Dados carregados e validados com sucesso!\")\n",
        "\n",
        "\n",
        "\n"
      ],
      "metadata": {
        "colab": {
          "base_uri": "https://localhost:8080/"
        },
        "id": "tPf_JGDCp-fX",
        "outputId": "ef4e57c2-dfd4-46a8-fed1-c911ddbc9fd7"
      },
      "execution_count": 7,
      "outputs": [
        {
          "output_type": "stream",
          "name": "stdout",
          "text": [
            "Colunas disponíveis em X_train: ['0_tBodyAcc-mean()-X', '0_tBodyAcc-mean()-Y', '0_tBodyAcc-mean()-Z']\n",
            "Colunas disponíveis em X_test: ['0_tBodyAcc-mean()-X', '0_tBodyAcc-mean()-Y', '0_tBodyAcc-mean()-Z']\n",
            "Dados carregados e validados com sucesso!\n"
          ]
        }
      ]
    },
    {
      "cell_type": "code",
      "source": [
        " # 3. Ajustar a Árvore de Decisão (min_samples_leaf = 20).\n",
        "\n",
        "# Ajustar uma árvore de decisão com mínimo de 20 observações por folha\n",
        "tree = DecisionTreeClassifier(min_samples_leaf=20, random_state=42)\n",
        "tree.fit(X_train, y_train)\n",
        "\n",
        "# Avaliar o desempenho\n",
        "train_score = tree.score(X_train, y_train)\n",
        "test_score = tree.score(X_test, y_test)\n",
        "print(f\"Acurácia Treino: {train_score:.4f}\")\n",
        "print(f\"Acurácia Teste: {test_score:.4f}\")\n"
      ],
      "metadata": {
        "colab": {
          "base_uri": "https://localhost:8080/"
        },
        "id": "TnZF8NlmqbYY",
        "outputId": "7fe0d47f-7b16-4c35-fd0c-3db07f75a2f0"
      },
      "execution_count": 8,
      "outputs": [
        {
          "output_type": "stream",
          "name": "stdout",
          "text": [
            "Acurácia Treino: 0.5639\n",
            "Acurácia Teste: 0.4408\n"
          ]
        }
      ]
    },
    {
      "cell_type": "markdown",
      "source": [],
      "metadata": {
        "id": "aRza1Wfop8Mh"
      }
    },
    {
      "cell_type": "markdown",
      "metadata": {
        "id": "3F4pKjVDg5Mp"
      },
      "source": [
        "### 3. Desempenho da árvore por ccp_alpha\n",
        "\n",
        "- 3.1: Rode uma árvore para cada ```ccp_alpha```, salvando cada árvore em uma lista\n",
        "- 3.2: Calcule a acurácia de cada árvore na base de treinamento e de teste\n",
        "- 3.3: Monte um gráfico da acurácia em função do ```ccp_alpha``` na base de validação e na base de teste\n",
        "- 3.4: Selecione a melhor árvore como sendo aquela que possui melhor acurácia na base de teste\n",
        "- 3.5: Qual a melhor acurácia que se pode obter com estas três variáveis?\n",
        "\n",
        "**Dica:** utilize a estrutura do notebook apresentado em aula.  \n",
        "**Dica 2:** meça o tempo com a função mágica ```%%time``` na primeira linha da célula.  \n",
        "**Sugestão:** caso fique confortável com o tempo de execução, faça a busca pelo melhor ```ccp_alpha``` com mais iterações.  \n",
        "**Sugestão 2:** caso fique confortável com o tempo de execução, tente inserir uma ou mais variáveis adicionais e veja se consegue aumentar a acurácia."
      ]
    },
    {
      "cell_type": "code",
      "source": [
        "# 1. Importar pacotes necessários\n",
        "import os\n",
        "import pandas as pd\n",
        "from sklearn.tree import DecisionTreeClassifier\n",
        "import numpy as np\n",
        "import matplotlib.pyplot as plt\n",
        "import zipfile\n",
        "\n",
        "# Função para verificar se o arquivo existe e exibir uma mensagem adequada\n",
        "def check_file_exists(filepath):\n",
        "    if not os.path.exists(filepath):\n",
        "        raise FileNotFoundError(f\"O arquivo {filepath} não foi encontrado.\")\n",
        "\n",
        "# 2. Defina o nome do arquivo ZIP e extraia os dados\n",
        "zip_path = 'UCI HAR Dataset.zip'\n",
        "with zipfile.ZipFile(zip_path, 'r') as zip_ref:\n",
        "    zip_ref.extractall('/content')\n",
        "\n",
        "# Verifique se a pasta foi extraída corretamente\n",
        "print(os.listdir('/content'))\n",
        "\n",
        "# 3. Definindo o caminho para os arquivos\n",
        "path = '/content/UCI HAR Dataset/'  # Corrigido para apontar para o local correto\n",
        "\n",
        "# 4. Carregar as features e tratar nomes duplicados\n",
        "features = pd.read_csv(path + 'features.txt', sep='\\s+', header=None, names=['index', 'feature'])\n",
        "features['feature'] = features.groupby('feature').cumcount().astype(str) + '_' + features['feature']\n",
        "feature_names = features['feature'].tolist()\n",
        "\n",
        "# 5. Carregar subject_train.txt e subject_test.txt (indicadores dos indivíduos)\n",
        "subject_train = pd.read_csv(path + 'train/subject_train.txt', header=None, names=['subject'])\n",
        "subject_test = pd.read_csv(path + 'test/subject_test.txt', header=None, names=['subject'])\n",
        "\n",
        "# 6. Carregar X_train e X_test (variáveis explicativas)\n",
        "X_train = pd.read_csv(path + 'train/X_train.txt', sep='\\s+', header=None, names=feature_names)\n",
        "X_test = pd.read_csv(path + 'test/X_test.txt', sep='\\s+', header=None, names=feature_names)\n",
        "\n",
        "# 7. Carregar y_train e y_test (atividades)\n",
        "y_train = pd.read_csv(path + 'train/y_train.txt', header=None, names=['activity'])\n",
        "y_test = pd.read_csv(path + 'test/y_test.txt', header=None, names=['activity'])\n",
        "\n",
        "# 8. Adicionar o identificador do indivíduo ao DataFrame de treino e teste\n",
        "X_train['subject'] = subject_train\n",
        "X_test['subject'] = subject_test\n",
        "\n",
        "# 9. Definir índice duplo (ordem dos dados + identificador do sujeito)\n",
        "X_train.set_index([X_train.index, 'subject'], inplace=True)\n",
        "X_test.set_index([X_test.index, 'subject'], inplace=True)\n",
        "\n",
        "# 10. Selecionar as três primeiras colunas relevantes para o exercício\n",
        "selected_features = ['0_tBodyAcc-mean()-X', '0_tBodyAcc-mean()-Y', '0_tBodyAcc-mean()-Z']\n",
        "X_train_selected = X_train[selected_features]\n",
        "X_test_selected = X_test[selected_features]\n",
        "\n",
        "# 11. Salvar as bases selecionadas em CSV\n",
        "X_train_selected.to_csv('X_train_selected.csv', index=True)\n",
        "X_test_selected.to_csv('X_test_selected.csv', index=True)\n",
        "\n",
        "print(\"Bases carregadas e salvas com sucesso!\")\n",
        "\n",
        "# 12. Ajustar uma árvore de decisão (min_samples_leaf = 20) e calcular ccp_alpha\n",
        "# Usar a célula mágica %%time para medir o tempo de execução\n",
        "# %%time  # Descomente esta linha se estiver usando um Jupyter Notebook\n",
        "\n",
        "# Verificar e carregar os dados preparados\n",
        "check_file_exists('X_train_selected.csv')\n",
        "check_file_exists(path + 'train/y_train.txt')  # Corrigido o caminho do arquivo\n",
        "check_file_exists('X_test_selected.csv')\n",
        "check_file_exists(path + 'test/y_test.txt')  # Corrigido o caminho do arquivo\n",
        "\n",
        "# Carregar os dados\n",
        "X_train = pd.read_csv('X_train_selected.csv', index_col=[0, 1])\n",
        "y_train = pd.read_csv(path + 'train/y_train.txt', header=None, names=['activity'])\n",
        "X_test = pd.read_csv('X_test_selected.csv', index_col=[0, 1])\n",
        "y_test = pd.read_csv(path + 'test/y_test.txt', header=None, names=['activity'])\n",
        "\n",
        "# Ajustar uma árvore de decisão\n",
        "tree = DecisionTreeClassifier(min_samples_leaf=20, random_state=42)\n",
        "tree.fit(X_train, y_train)\n",
        "\n",
        "# Avaliar o desempenho\n",
        "train_score = tree.score(X_train, y_train)\n",
        "test_score = tree.score(X_test, y_test)\n",
        "print(f\"Acurácia Treino: {train_score:.4f}\")\n",
        "print(f\"Acurácia Teste: {test_score:.4f}\")\n",
        "\n",
        "# 13. Calcular os ccp_alphas\n",
        "ccp_alphas = tree.cost_complexity_pruning_path(X_train, y_train)\n",
        "ccp_alphas_reduzidos = np.unique(ccp_alphas.ccp_alphas)\n",
        "\n",
        "# 14. Listar árvores ajustadas\n",
        "trees = []\n",
        "\n",
        "# Ajustar uma árvore para cada valor de ccp_alpha\n",
        "for alpha in ccp_alphas_reduzidos[::5]:  # Usar um valor a cada 5 para acelerar\n",
        "    tree = DecisionTreeClassifier(random_state=42, ccp_alpha=alpha)\n",
        "    tree.fit(X_train, y_train)\n",
        "    trees.append(tree)\n",
        "\n",
        "print(\"Árvores ajustadas com sucesso!\")\n",
        "\n",
        "# 15. Avaliar desempenho de cada árvore\n",
        "train_scores = [tree.score(X_train, y_train) for tree in trees]\n",
        "test_scores = [tree.score(X_test, y_test) for tree in trees]\n",
        "\n",
        "# 16. Plotar a acurácia em função do ccp_alpha\n",
        "plt.figure(figsize=(10, 6))\n",
        "plt.plot(ccp_alphas_reduzidos[::5], train_scores, label='Acurácia Treino', marker='o')\n",
        "plt.plot(ccp_alphas_reduzidos[::5], test_scores, label='Acurácia Teste', marker='o')\n",
        "plt.xlabel('ccp_alpha')\n",
        "plt.ylabel('Acurácia')\n",
        "plt.title('Acurácia em função do ccp_alpha')\n",
        "plt.legend()\n",
        "plt.grid()\n",
        "plt.show()\n",
        "\n",
        "# 17. Melhor acurácia na base de teste\n",
        "best_index = np.argmax(test_scores)\n",
        "best_alpha = ccp_alphas_reduzidos[::5][best_index]\n",
        "best_test_score = test_scores[best_index]\n",
        "\n",
        "print(f\"A melhor árvore foi com ccp_alpha: {best_alpha:.4f} e teve acurácia de: {best_test_score:.4f}\")\n",
        "\n"
      ],
      "metadata": {
        "colab": {
          "base_uri": "https://localhost:8080/",
          "height": 611
        },
        "id": "H3DDbTaMv35D",
        "outputId": "ddd847c0-dc51-45dc-c496-f31d69be5edc"
      },
      "execution_count": 9,
      "outputs": [
        {
          "output_type": "stream",
          "name": "stdout",
          "text": [
            "['.config', 'X_train_selected.csv', '__MACOSX', 'X_test_selected.csv', 'UCI HAR Dataset', 'UCI HAR Dataset.zip', 'sample_data']\n",
            "Bases carregadas e salvas com sucesso!\n",
            "Acurácia Treino: 0.5639\n",
            "Acurácia Teste: 0.4408\n",
            "Árvores ajustadas com sucesso!\n"
          ]
        },
        {
          "output_type": "display_data",
          "data": {
            "text/plain": [
              "<Figure size 1000x600 with 1 Axes>"
            ],
            "image/png": "[encoded data removed]"
          },
          "metadata": {}
        },
        {
          "output_type": "stream",
          "name": "stdout",
          "text": [
            "A melhor árvore foi com ccp_alpha: 0.0004 e teve acurácia de: 0.4472\n"
          ]
        }
      ]
    },
    {
      "cell_type": "markdown",
      "source": [
        "# Relatório de Análise de Atividade Humana com Smartphones\n",
        "\n",
        "## Introdução\n",
        "\n",
        "Este relatório apresenta uma análise da base de dados sobre identificação de atividades humanas utilizando dados de sensores de smartphones, como acelerômetros e giroscópios. O objetivo é classificar corretamente seis atividades comuns: andando, subindo escadas, descendo escadas, parado, sentado e deitado.\n",
        "\n",
        "## Dados\n",
        "\n",
        "Os dados foram coletados a partir de sensores com uma frequência de 50 Hz, agrupados em medições de 0.3 Hz, resultando em 561 variáveis. Essas variáveis incluem medidas como aceleração mínima, máxima e média em três eixos (X, Y e Z).\n",
        "\n",
        "## Resultados\n",
        "\n",
        "### Acurácia do Modelo\n",
        "\n",
        "Um classificador de árvore de decisão foi utilizado, com as seguintes acurácias:\n",
        "\n",
        "- **Acurácia no Conjunto de Treinamento:** 56.39%\n",
        "- **Acurácia no Conjunto de Teste:** 44.08%\n",
        "\n",
        "Esses resultados indicam que o modelo teve um desempenho melhor nos dados de treinamento do que nos dados de teste, sugerindo um possível sobreajuste.\n",
        "\n",
        "## Insights\n",
        "\n",
        "1. **Sobreajuste:** A diferença nas acurácias sugere que o modelo não generaliza bem. Ajustar os hiperparâmetros ou utilizar técnicas de regularização pode ajudar a melhorar isso.\n",
        "\n",
        "2. **Exploração de Variáveis:** Considerar a inclusão de mais variáveis ou características derivadas pode aumentar a acurácia do modelo.\n",
        "\n",
        "3. **Modelos Alternativos:** Testar outros algoritmos de classificação, como florestas aleatórias ou redes neurais, pode resultar em melhor desempenho.\n",
        "\n",
        "4. **Validação Cruzada:** Usar validação cruzada para garantir que o modelo seja robusto e funcione bem em diferentes subconjuntos de dados.\n",
        "\n",
        "5. **Análise de Erros:** Identificar quais atividades estão sendo confundidas pode ajudar a entender as limitações do modelo e orientar melhorias.\n",
        "\n",
        "## Conclusão\n",
        "\n",
        "A análise dos dados de sensores de smartphones mostra um grande potencial para identificar atividades humanas. Embora os resultados iniciais apresentem desafios, há oportunidades para aprimorar o modelo por meio de ajustes e exploração de novas abordagens. O sucesso nesse campo pode ter aplicações valiosas em saúde e monitoramento de atividades diárias.\n"
      ],
      "metadata": {
        "id": "j-XVo-4wytLv"
      }
    }
  ],
  "metadata": {
    "kernelspec": {
      "display_name": "Python 3",
      "language": "python",
      "name": "python3"
    },
    "language_info": {
      "codemirror_mode": {
        "name": "ipython",
        "version": 3
      },
      "file_extension": ".py",
      "mimetype": "text/x-python",
      "name": "python",
      "nbconvert_exporter": "python",
      "pygments_lexer": "ipython3",
      "version": "3.8.5"
    },
    "colab": {
      "provenance": []
    }
  },
  "nbformat": 4,
  "nbformat_minor": 0
}